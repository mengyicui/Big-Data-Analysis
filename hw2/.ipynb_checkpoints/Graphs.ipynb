{
 "cells": [
  {
   "cell_type": "code",
   "execution_count": 1,
   "metadata": {
    "collapsed": false
   },
   "outputs": [],
   "source": [
    "from pyspark.sql import SparkSession\n",
    "from pyspark.sql.types import *\n",
    "import pyspark.sql.functions as F\n",
    "from pyspark.sql.functions import *\n",
    "spark = SparkSession.builder.appName('Graphs-HW2').config(\"spark.sql.crossJoin.enabled\", True).getOrCreate()\n",
    "from pyspark.sql.types import *"
   ]
  },
  {
   "cell_type": "markdown",
   "metadata": {},
   "source": [
    "# Step 2.2"
   ]
  },
  {
   "cell_type": "code",
   "execution_count": 2,
   "metadata": {
    "collapsed": true
   },
   "outputs": [],
   "source": [
    "# Read lines from the text file\n",
    "answers_sdf = spark.read.load('sx-stackoverflow-a2q.txt', format=\"text\")\n",
    "comments_answers_sdf = spark.read.load('sx-stackoverflow-c2a.txt', format=\"text\")\n",
    "comments_questions_sdf = spark.read.load('sx-stackoverflow-c2q.txt', format=\"text\")"
   ]
  },
  {
   "cell_type": "code",
   "execution_count": 3,
   "metadata": {
    "collapsed": false
   },
   "outputs": [
    {
     "data": {
      "text/plain": [
       "17823525"
      ]
     },
     "execution_count": 3,
     "metadata": {},
     "output_type": "execute_result"
    }
   ],
   "source": [
    "answers_sdf.count() "
   ]
  },
  {
   "cell_type": "code",
   "execution_count": 4,
   "metadata": {
    "collapsed": false
   },
   "outputs": [
    {
     "name": "stdout",
     "output_type": "stream",
     "text": [
      "+----------------+\n",
      "|           value|\n",
      "+----------------+\n",
      "|  9 8 1217567877|\n",
      "|  1 1 1217573801|\n",
      "| 13 1 1217606247|\n",
      "| 17 1 1217617639|\n",
      "| 48 2 1217618182|\n",
      "| 17 1 1217618239|\n",
      "| 19 9 1217618357|\n",
      "|13 23 1217618560|\n",
      "|13 11 1217618799|\n",
      "|23 23 1217619360|\n",
      "+----------------+\n",
      "only showing top 10 rows\n",
      "\n"
     ]
    }
   ],
   "source": [
    "answers_sdf.show(10)"
   ]
  },
  {
   "cell_type": "code",
   "execution_count": 5,
   "metadata": {
    "collapsed": false
   },
   "outputs": [
    {
     "name": "stdout",
     "output_type": "stream",
     "text": [
      "root\n",
      " |-- value: string (nullable = true)\n",
      "\n"
     ]
    }
   ],
   "source": [
    "answers_sdf.printSchema()"
   ]
  },
  {
   "cell_type": "code",
   "execution_count": 6,
   "metadata": {
    "collapsed": false
   },
   "outputs": [
    {
     "data": {
      "text/plain": [
       "25405374"
      ]
     },
     "execution_count": 6,
     "metadata": {},
     "output_type": "execute_result"
    }
   ],
   "source": [
    "comments_answers_sdf.count()"
   ]
  },
  {
   "cell_type": "code",
   "execution_count": 7,
   "metadata": {
    "collapsed": false
   },
   "outputs": [
    {
     "name": "stdout",
     "output_type": "stream",
     "text": [
      "+--------------------+\n",
      "|               value|\n",
      "+--------------------+\n",
      "|     1 91 1220713630|\n",
      "|     3 91 1220713792|\n",
      "|  380 350 1220715736|\n",
      "|4642 2257 1220734307|\n",
      "|4642 1324220 1220...|\n",
      "|2495 4285 1220736640|\n",
      "|4642 4893 1220737355|\n",
      "|2515 4903 1220738560|\n",
      "|2515 4893 1220739071|\n",
      "|  199 199 1220741079|\n",
      "+--------------------+\n",
      "only showing top 10 rows\n",
      "\n"
     ]
    }
   ],
   "source": [
    "comments_answers_sdf.show(10)"
   ]
  },
  {
   "cell_type": "code",
   "execution_count": 8,
   "metadata": {
    "collapsed": false
   },
   "outputs": [
    {
     "name": "stdout",
     "output_type": "stream",
     "text": [
      "root\n",
      " |-- value: string (nullable = true)\n",
      "\n"
     ]
    }
   ],
   "source": [
    "comments_answers_sdf.printSchema()"
   ]
  },
  {
   "cell_type": "code",
   "execution_count": 9,
   "metadata": {
    "collapsed": false
   },
   "outputs": [
    {
     "data": {
      "text/plain": [
       "20268151"
      ]
     },
     "execution_count": 9,
     "metadata": {},
     "output_type": "execute_result"
    }
   ],
   "source": [
    "comments_questions_sdf.count()"
   ]
  },
  {
   "cell_type": "code",
   "execution_count": 10,
   "metadata": {
    "collapsed": false
   },
   "outputs": [
    {
     "name": "stdout",
     "output_type": "stream",
     "text": [
      "+--------------------+\n",
      "|               value|\n",
      "+--------------------+\n",
      "|4550 4550 1220729190|\n",
      "|  242 184 1220733503|\n",
      "|4213 4946 1220768149|\n",
      "|    91 91 1220768295|\n",
      "|2658 1874 1220771891|\n",
      "|4035 1874 1220773037|\n",
      "|2257 4489 1220802041|\n",
      "|  577 577 1220834891|\n",
      "|4489 4489 1220853536|\n",
      "| 828 2783 1220854143|\n",
      "+--------------------+\n",
      "only showing top 10 rows\n",
      "\n"
     ]
    }
   ],
   "source": [
    "comments_questions_sdf.show(10)"
   ]
  },
  {
   "cell_type": "code",
   "execution_count": 11,
   "metadata": {
    "collapsed": false
   },
   "outputs": [
    {
     "name": "stdout",
     "output_type": "stream",
     "text": [
      "root\n",
      " |-- value: string (nullable = true)\n",
      "\n"
     ]
    }
   ],
   "source": [
    "comments_questions_sdf.printSchema()"
   ]
  },
  {
   "cell_type": "markdown",
   "metadata": {},
   "source": [
    "# Step 2.3"
   ]
  },
  {
   "cell_type": "code",
   "execution_count": 12,
   "metadata": {
    "collapsed": false
   },
   "outputs": [],
   "source": [
    "answers_sdf.createOrReplaceTempView('answers_sdf')\n",
    "answers_sdf = answers_sdf.select(F.split(answers_sdf.value, ' ')[0].alias('from_node').cast('int'),\n",
    "                                F.split(answers_sdf.value, ' ')[1].alias('to_node').cast('int'),\n",
    "                                F.split(answers_sdf.value, ' ')[2].alias('timestamp').cast('int'))\n",
    "answers_sdf = answers_sdf.withColumn('edge_type', F.lit('answer'))\n",
    "answers_sdf = answers_sdf.withColumn('timestamp', from_unixtime('timestamp', format = 'YYYY:MM:dd hh:mm:ss'))"
   ]
  },
  {
   "cell_type": "code",
   "execution_count": 13,
   "metadata": {
    "collapsed": false
   },
   "outputs": [],
   "source": [
    "comments_answers_sdf = comments_answers_sdf.select(F.split(comments_answers_sdf.value, ' ')[0].alias('from_node').cast('int'),\n",
    "                                F.split(comments_answers_sdf.value, ' ')[1].alias('to_node').cast('int'),\n",
    "                                F.split(comments_answers_sdf.value, ' ')[2].alias('timestamp').cast('int'))\n",
    "comments_answers_sdf = comments_answers_sdf.withColumn('edge_type', F.lit('comments-on-answers'))\n",
    "comments_answers_sdf = comments_answers_sdf.withColumn('timestamp', from_unixtime('timestamp', format = 'YYYY:MM:dd hh:mm:ss'))"
   ]
  },
  {
   "cell_type": "code",
   "execution_count": 14,
   "metadata": {
    "collapsed": false
   },
   "outputs": [],
   "source": [
    "comments_questions_sdf = comments_questions_sdf.select(F.split(comments_questions_sdf.value, ' ')[0].alias('from_node').cast('int'),\n",
    "                                F.split(comments_questions_sdf.value, ' ')[1].alias('to_node').cast('int'),\n",
    "                                F.split(comments_questions_sdf.value, ' ')[2].alias('timestamp').cast('int'))\n",
    "comments_questions_sdf = comments_questions_sdf.withColumn('edge_type', F.lit('comments-on-questions'))\n",
    "comments_questions_sdf = comments_questions_sdf.withColumn('timestamp', from_unixtime('timestamp', format = 'YYYY:MM:dd hh:mm:ss'))"
   ]
  },
  {
   "cell_type": "code",
   "execution_count": 15,
   "metadata": {
    "collapsed": false
   },
   "outputs": [],
   "source": [
    "graph_sdf = answers_sdf.unionAll(comments_answers_sdf).unionAll(comments_questions_sdf)"
   ]
  },
  {
   "cell_type": "code",
   "execution_count": 16,
   "metadata": {
    "collapsed": false
   },
   "outputs": [
    {
     "data": {
      "text/plain": [
       "17823525"
      ]
     },
     "execution_count": 16,
     "metadata": {},
     "output_type": "execute_result"
    }
   ],
   "source": [
    "answers_sdf.count()"
   ]
  },
  {
   "cell_type": "code",
   "execution_count": 17,
   "metadata": {
    "collapsed": false
   },
   "outputs": [
    {
     "name": "stdout",
     "output_type": "stream",
     "text": [
      "+---------+-------+-------------------+---------+\n",
      "|from_node|to_node|          timestamp|edge_type|\n",
      "+---------+-------+-------------------+---------+\n",
      "|        9|      8|2008:08:01 05:17:57|   answer|\n",
      "|        1|      1|2008:08:01 06:56:41|   answer|\n",
      "|       13|      1|2008:08:01 03:57:27|   answer|\n",
      "|       17|      1|2008:08:01 07:07:19|   answer|\n",
      "|       48|      2|2008:08:01 07:16:22|   answer|\n",
      "+---------+-------+-------------------+---------+\n",
      "only showing top 5 rows\n",
      "\n"
     ]
    }
   ],
   "source": [
    "answers_sdf.show(5)"
   ]
  },
  {
   "cell_type": "code",
   "execution_count": 18,
   "metadata": {
    "collapsed": false
   },
   "outputs": [
    {
     "name": "stdout",
     "output_type": "stream",
     "text": [
      "root\n",
      " |-- from_node: integer (nullable = true)\n",
      " |-- to_node: integer (nullable = true)\n",
      " |-- timestamp: string (nullable = true)\n",
      " |-- edge_type: string (nullable = false)\n",
      "\n"
     ]
    }
   ],
   "source": [
    "answers_sdf.printSchema()"
   ]
  },
  {
   "cell_type": "code",
   "execution_count": 19,
   "metadata": {
    "collapsed": false
   },
   "outputs": [
    {
     "data": {
      "text/plain": [
       "25405374"
      ]
     },
     "execution_count": 19,
     "metadata": {},
     "output_type": "execute_result"
    }
   ],
   "source": [
    "comments_answers_sdf.count()"
   ]
  },
  {
   "cell_type": "code",
   "execution_count": 20,
   "metadata": {
    "collapsed": false
   },
   "outputs": [
    {
     "name": "stdout",
     "output_type": "stream",
     "text": [
      "+---------+-------+-------------------+-------------------+\n",
      "|from_node|to_node|          timestamp|          edge_type|\n",
      "+---------+-------+-------------------+-------------------+\n",
      "|        1|     91|2008:09:06 03:07:10|comments-on-answers|\n",
      "|        3|     91|2008:09:06 03:09:52|comments-on-answers|\n",
      "|      380|    350|2008:09:06 03:42:16|comments-on-answers|\n",
      "|     4642|   2257|2008:09:06 08:51:47|comments-on-answers|\n",
      "|     4642|1324220|2008:09:06 09:15:46|comments-on-answers|\n",
      "+---------+-------+-------------------+-------------------+\n",
      "only showing top 5 rows\n",
      "\n"
     ]
    }
   ],
   "source": [
    "comments_answers_sdf.show(5)"
   ]
  },
  {
   "cell_type": "code",
   "execution_count": 21,
   "metadata": {
    "collapsed": false
   },
   "outputs": [
    {
     "name": "stdout",
     "output_type": "stream",
     "text": [
      "root\n",
      " |-- from_node: integer (nullable = true)\n",
      " |-- to_node: integer (nullable = true)\n",
      " |-- timestamp: string (nullable = true)\n",
      " |-- edge_type: string (nullable = false)\n",
      "\n"
     ]
    }
   ],
   "source": [
    "comments_answers_sdf.printSchema()"
   ]
  },
  {
   "cell_type": "code",
   "execution_count": 22,
   "metadata": {
    "collapsed": false
   },
   "outputs": [
    {
     "data": {
      "text/plain": [
       "20268151"
      ]
     },
     "execution_count": 22,
     "metadata": {},
     "output_type": "execute_result"
    }
   ],
   "source": [
    "comments_questions_sdf.count()"
   ]
  },
  {
   "cell_type": "code",
   "execution_count": 23,
   "metadata": {
    "collapsed": false
   },
   "outputs": [
    {
     "name": "stdout",
     "output_type": "stream",
     "text": [
      "+---------+-------+-------------------+--------------------+\n",
      "|from_node|to_node|          timestamp|           edge_type|\n",
      "+---------+-------+-------------------+--------------------+\n",
      "|     4550|   4550|2008:09:06 07:26:30|comments-on-quest...|\n",
      "|      242|    184|2008:09:06 08:38:23|comments-on-quest...|\n",
      "|     4213|   4946|2008:09:07 06:15:49|comments-on-quest...|\n",
      "|       91|     91|2008:09:07 06:18:15|comments-on-quest...|\n",
      "|     2658|   1874|2008:09:07 07:18:11|comments-on-quest...|\n",
      "+---------+-------+-------------------+--------------------+\n",
      "only showing top 5 rows\n",
      "\n"
     ]
    }
   ],
   "source": [
    "comments_questions_sdf.show(5)"
   ]
  },
  {
   "cell_type": "code",
   "execution_count": 24,
   "metadata": {
    "collapsed": false
   },
   "outputs": [
    {
     "name": "stdout",
     "output_type": "stream",
     "text": [
      "root\n",
      " |-- from_node: integer (nullable = true)\n",
      " |-- to_node: integer (nullable = true)\n",
      " |-- timestamp: string (nullable = true)\n",
      " |-- edge_type: string (nullable = false)\n",
      "\n"
     ]
    }
   ],
   "source": [
    "comments_questions_sdf.printSchema()"
   ]
  },
  {
   "cell_type": "code",
   "execution_count": 25,
   "metadata": {
    "collapsed": false
   },
   "outputs": [
    {
     "data": {
      "text/plain": [
       "63497050"
      ]
     },
     "execution_count": 25,
     "metadata": {},
     "output_type": "execute_result"
    }
   ],
   "source": [
    "graph_sdf.count()"
   ]
  },
  {
   "cell_type": "code",
   "execution_count": 26,
   "metadata": {
    "collapsed": false
   },
   "outputs": [
    {
     "name": "stdout",
     "output_type": "stream",
     "text": [
      "+---------+-------+-------------------+---------+\n",
      "|from_node|to_node|          timestamp|edge_type|\n",
      "+---------+-------+-------------------+---------+\n",
      "|        9|      8|2008:08:01 05:17:57|   answer|\n",
      "|        1|      1|2008:08:01 06:56:41|   answer|\n",
      "|       13|      1|2008:08:01 03:57:27|   answer|\n",
      "|       17|      1|2008:08:01 07:07:19|   answer|\n",
      "|       48|      2|2008:08:01 07:16:22|   answer|\n",
      "+---------+-------+-------------------+---------+\n",
      "only showing top 5 rows\n",
      "\n"
     ]
    }
   ],
   "source": [
    "graph_sdf.show(5)"
   ]
  },
  {
   "cell_type": "code",
   "execution_count": 27,
   "metadata": {
    "collapsed": false
   },
   "outputs": [
    {
     "name": "stdout",
     "output_type": "stream",
     "text": [
      "root\n",
      " |-- from_node: integer (nullable = true)\n",
      " |-- to_node: integer (nullable = true)\n",
      " |-- timestamp: string (nullable = true)\n",
      " |-- edge_type: string (nullable = false)\n",
      "\n"
     ]
    }
   ],
   "source": [
    "graph_sdf.printSchema()"
   ]
  },
  {
   "cell_type": "markdown",
   "metadata": {
    "collapsed": true
   },
   "source": [
    "# Step 3"
   ]
  },
  {
   "cell_type": "code",
   "execution_count": 28,
   "metadata": {
    "collapsed": false
   },
   "outputs": [
    {
     "name": "stdout",
     "output_type": "stream",
     "text": [
      "+-------+-----+\n",
      "|to_node|count|\n",
      "+-------+-----+\n",
      "|  22656|93143|\n",
      "| 548225|54410|\n",
      "|  29407|45824|\n",
      "| 157882|39576|\n",
      "|1144035|38909|\n",
      "+-------+-----+\n",
      "only showing top 5 rows\n",
      "\n"
     ]
    }
   ],
   "source": [
    "indegree = graph_sdf.groupBy('to_node').count().orderBy('count',ascending = False)\n",
    "indegree.show(5)"
   ]
  },
  {
   "cell_type": "code",
   "execution_count": 29,
   "metadata": {
    "collapsed": false
   },
   "outputs": [
    {
     "name": "stdout",
     "output_type": "stream",
     "text": [
      "+---------+------+\n",
      "|from_node| count|\n",
      "+---------+------+\n",
      "|    22656|101663|\n",
      "|   505088| 65522|\n",
      "|    17034| 65260|\n",
      "|  1491895| 62746|\n",
      "|   100297| 54330|\n",
      "+---------+------+\n",
      "only showing top 5 rows\n",
      "\n"
     ]
    }
   ],
   "source": [
    "outdegree = graph_sdf.groupBy('from_node').count().orderBy('count',ascending = False)\n",
    "outdegree.show(5)"
   ]
  },
  {
   "cell_type": "markdown",
   "metadata": {},
   "source": [
    "# Step 4.1"
   ]
  },
  {
   "cell_type": "code",
   "execution_count": 30,
   "metadata": {
    "collapsed": false
   },
   "outputs": [],
   "source": [
    "def spark_bfs(G, origins, max_depth):\n",
    "    schema = StructType([StructField(\"node\", IntegerType(), True), StructField(\"depth\", IntegerType(), True)])\n",
    "    schema_new = StructType([StructField(\"node\", IntegerType(), True)])\n",
    "    visited = spark.createDataFrame([], schema).cache()\n",
    "    new_frontier = spark.createDataFrame([], schema).cache()\n",
    "    frontier = spark.createDataFrame(origins, schema_new).cache()\n",
    "    \n",
    "    G.cache().repartition(100,\"from_node\")\n",
    "    for i in range(0, max_depth + 1):\n",
    "        frontier = frontier.withColumn('depth',F.lit(i))    \n",
    "        visited = visited.union(frontier)\n",
    "        \n",
    "        frontier = frontier.dropDuplicates()\n",
    "        G.createOrReplaceTempView('G')\n",
    "        frontier.createOrReplaceTempView('frontier')\n",
    "        new_frontier = spark.sql('''SELECT f.node, G.to_node, f.depth\n",
    "                                    FROM G JOIN frontier f\n",
    "                                    WHERE G.from_node = f.node''')\n",
    "        \n",
    "        new_frontier.createOrReplaceTempView('new_frontier')\n",
    "        visited.createOrReplaceTempView('visited')\n",
    "        new_frontier = spark.sql('''SELECT *\n",
    "                                    FROM new_frontier f\n",
    "                                    WHERE NOT EXISTS (SELECT *\n",
    "                                                    FROM visited v\n",
    "                                                    WHERE v.node = f.to_node)''')\n",
    "\n",
    "        new_frontier.createOrReplaceTempView('new_frontier')\n",
    "        frontier = spark.sql('''SELECT to_node AS node, depth\n",
    "                                FROM new_frontier''')\n",
    "        \n",
    "    return visited\n"
   ]
  },
  {
   "cell_type": "code",
   "execution_count": 31,
   "metadata": {
    "collapsed": false
   },
   "outputs": [
    {
     "data": {
      "text/plain": [
       "396"
      ]
     },
     "execution_count": 31,
     "metadata": {},
     "output_type": "execute_result"
    }
   ],
   "source": [
    "bfs_sdf = spark_bfs(comments_questions_sdf, [{'node':4550},{'node':242}], 2)\n",
    "bfs_sdf.count()"
   ]
  },
  {
   "cell_type": "code",
   "execution_count": 32,
   "metadata": {
    "collapsed": false
   },
   "outputs": [
    {
     "name": "stdout",
     "output_type": "stream",
     "text": [
      "+-------+-----+\n",
      "|   node|depth|\n",
      "+-------+-----+\n",
      "|   4550|    0|\n",
      "|    242|    0|\n",
      "|1619254|    1|\n",
      "|2332659|    1|\n",
      "|5504881|    1|\n",
      "|1139389|    1|\n",
      "|1940564|    1|\n",
      "| 818089|    1|\n",
      "|3047450|    1|\n",
      "|4773326|    1|\n",
      "|5070920|    1|\n",
      "|2495819|    1|\n",
      "|   1551|    1|\n",
      "| 602291|    1|\n",
      "| 451383|    1|\n",
      "|4569974|    1|\n",
      "| 633513|    1|\n",
      "|2705465|    1|\n",
      "|2605058|    1|\n",
      "|  67719|    1|\n",
      "+-------+-----+\n",
      "only showing top 20 rows\n",
      "\n"
     ]
    }
   ],
   "source": [
    "bfs_sdf.show()"
   ]
  },
  {
   "cell_type": "markdown",
   "metadata": {},
   "source": [
    "# Step 4.2"
   ]
  },
  {
   "cell_type": "code",
   "execution_count": 53,
   "metadata": {
    "collapsed": false
   },
   "outputs": [],
   "source": [
    "bfs_sdf.createOrReplaceTempView('bfs_sdf')\n",
    "filtered_bfs_sdf = spark.sql('''SELECT DISTINCT node, COUNT(node) AS num\n",
    "                                FROM bfs_sdf\n",
    "                                GROUP BY node, depth\n",
    "                                HAVING depth == 2 AND num > 1''')"
   ]
  },
  {
   "cell_type": "code",
   "execution_count": 55,
   "metadata": {
    "collapsed": false,
    "scrolled": true
   },
   "outputs": [],
   "source": [
    "def friend_rec(filtered_bfs_sdf, graph_sdf):\n",
    "    filtered_bfs_sdf.createOrReplaceTempView('filtered_bfs_sdf')\n",
    "    graph_sdf.createOrReplaceTempView('graph_sdf')\n",
    "    with_duplicate = spark.sql('''SELECT DISTINCT c.from_node, c.to_node\n",
    "                                FROM filtered_bfs_sdf f JOIN graph_sdf c\n",
    "                                ON f.node = c.from_node''').cache()\n",
    "\n",
    "    filtered_bfs_sdf.createOrReplaceTempView('filtered_bfs_sdf')\n",
    "    with_duplicate.createOrReplaceTempView('with_duplicate')\n",
    "    within_filter_bfs = spark.sql('''SELECT wd.from_node, wd.to_node\n",
    "                                FROM with_duplicate wd\n",
    "                                WHERE wd.to_node IN(SELECT f.node\n",
    "                                                    FROM filtered_bfs_sdf f)''').cache()\n",
    "\n",
    "    r1 = within_filter_bfs\n",
    "    r2 = within_filter_bfs\n",
    "    r1.createOrReplaceTempView('r1')\n",
    "    r2.createOrReplaceTempView('r2')\n",
    "    result = spark.sql('''SELECT r1.from_node AS from_node, r2.to_node AS to_node\n",
    "                      FROM r1, r2\n",
    "                      WHERE r1.from_node != r2.to_node''')\n",
    "    return result"
   ]
  },
  {
   "cell_type": "code",
   "execution_count": null,
   "metadata": {
    "collapsed": true
   },
   "outputs": [],
   "source": [
    "friend_rec(filtered_bfs_sdf, comments_questions_sdf).count()"
   ]
  },
  {
   "cell_type": "code",
   "execution_count": null,
   "metadata": {
    "collapsed": true
   },
   "outputs": [],
   "source": [
    "friend_rec(filtered_bfs_sdf, comments_questions_sdf).show()"
   ]
  }
 ],
 "metadata": {
  "kernelspec": {
   "display_name": "Python 3",
   "language": "python",
   "name": "python3"
  },
  "language_info": {
   "codemirror_mode": {
    "name": "ipython",
    "version": 3
   },
   "file_extension": ".py",
   "mimetype": "text/x-python",
   "name": "python",
   "nbconvert_exporter": "python",
   "pygments_lexer": "ipython3",
   "version": "3.5.2"
  }
 },
 "nbformat": 4,
 "nbformat_minor": 2
}
