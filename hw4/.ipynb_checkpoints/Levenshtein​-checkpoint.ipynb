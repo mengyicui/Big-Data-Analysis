{
 "cells": [
  {
   "cell_type": "code",
   "execution_count": 1,
   "metadata": {
    "collapsed": false
   },
   "outputs": [],
   "source": [
    "def conservative(a, b):\n",
    "    amino_class = {}\n",
    "    amino_class['Aliphatic'] = ['G', 'A', 'V', 'L', 'I']\n",
    "    amino_class['Hydroxyl'] = ['S', 'C', 'T', 'M']\n",
    "    amino_class['Cyclic'] = ['P']\n",
    "    amino_class['Aromatic'] = ['F', 'Y', 'W']\n",
    "    amino_class['Basic'] = ['H', 'K', 'R']\n",
    "    amino_class['Acidic and Amide'] = ['D', 'E', 'N', 'Q']\n",
    "    \n",
    "    for k, v in amino_class.items():\n",
    "        if a in v:\n",
    "            if b in v:\n",
    "                return True\n",
    "            else:\n",
    "                return False"
   ]
  },
  {
   "cell_type": "code",
   "execution_count": 2,
   "metadata": {
    "collapsed": false
   },
   "outputs": [],
   "source": [
    "import numpy as np\n",
    "def levenshtein(s1, s2):\n",
    "    if s1 == s2:\n",
    "        return 0\n",
    "    elif len(s1) == 0:\n",
    "        return len(s2)\n",
    "    elif len(s2) == 0:\n",
    "        return len(s1)\n",
    "    \n",
    "    d = {}\n",
    "    for i in range(len(s1)):\n",
    "        d[i, 0] = i\n",
    "    for j in range(len(s2)):\n",
    "        d[0, j] = j\n",
    "    \n",
    "    for i in range(1, len(s1)):\n",
    "        for j in range(1, len(s2)):\n",
    "            if s1[i] == s2[j]:\n",
    "                cost = 0\n",
    "            elif conservative(s1[i], s2[j]):\n",
    "                cost = 1\n",
    "            elif s1[i] =='X' or s2[j] =='X':\n",
    "                cost = 1\n",
    "            else:\n",
    "                cost = 2\n",
    "                \n",
    "            if s1[i] == s2[j]:\n",
    "                d[i, j] = d[i - 1, j - 1]\n",
    "            else:\n",
    "                d[i, j] = min(d[i - 1, j - 1] + cost, \n",
    "                              d[i - 1, j] + 1, \n",
    "                              d[i, j - 1] + 1)\n",
    "#     print(d)\n",
    "    return d[len(s1) - 1, len(s2) - 1]"
   ]
  },
  {
   "cell_type": "code",
   "execution_count": 3,
   "metadata": {
    "collapsed": true
   },
   "outputs": [],
   "source": [
    "# import numpy as np\n",
    "\n",
    "# def levenshtein(s1, s2):\n",
    "#     if len(s1) < len(s2):\n",
    "#         levenshtein(s2, s1)\n",
    "        \n",
    "#     if s2 == 0:\n",
    "#         return len(s1)\n",
    "    \n",
    "#     distance = np.zeros((len(s1) + 1, len(s2) + 1), np.int8)\n",
    "    \n",
    "#     distance[0] = range(len(s2) + 1)\n",
    "    \n",
    "#     for i, c1 in enumerate(s1):\n",
    "#         distance[i + 1, 0] = i + 1\n",
    "#         for j, c2 in enumerate(s2):\n",
    "            \n",
    "#             if s1[i] == s2[j]:\n",
    "#                 cost = 0\n",
    "#             elif s1[i] =='X' or s2[j] =='X':\n",
    "#                 cost = 1\n",
    "#             elif conservative(s1[i], s2[j]):\n",
    "#                 cost = 1\n",
    "#             else:\n",
    "#                 cost = 2\n",
    "                \n",
    "#             insertion = distance[i, j + 1] + 1\n",
    "#             deletion = distance[i + 1, j] + 1\n",
    "#             substitution = distance[i, j] + cost\n",
    "#             distance[i + 1, j + 1] = min(insertion, deletion, substitution)\n",
    "        \n",
    "# #     print(distance)\n",
    "#     return distance[-1, -1]\n",
    "    "
   ]
  },
  {
   "cell_type": "code",
   "execution_count": 4,
   "metadata": {
    "collapsed": true
   },
   "outputs": [],
   "source": [
    "sequence1 = ['M','N','I','K','G','S','P','W','K','G','S','L','L','L','L','L','V','S','N','L','L','L','C','Q','S','V',\n",
    "             'A','P','L','P','I','C','P','G','G','A','A','R','C','Q','V','T','L','R','D','L','F','D','R','A','V','V',\n",
    "             'L','S','H','Y','I','H','N','L','S','S','E','M','F','S','E','F','D','K','R','Y','T','H','G','R','G','F',\n",
    "             'I','T','K','A','I','N','S','C','H','T','S','S','L','A','T','P','E','D','K','E','Q','A','Q','Q','M','N',\n",
    "             'Q','K','D','F','L','S','L','I','V','S','I','L','R','S','W','N','E','P','L','Y','H','L','V','T','E','V',\n",
    "             'R','G','M','Q','E','A','P','E','A','I','L','S','K','A','V','E','I','E','E','Q','T','K','R','L','L','E',\n",
    "             'G','M','E','L','I','V','S','Q','V','H','P','E','T','K','E','N','E','I','Y','P','V','W','S','G','L','P',\n",
    "             'S','L','Q','M','A','D','E','E','S','R','L','S','A','Y','Y','N','L','L','H','C','L','R','R','D','S','H',\n",
    "             'K','I','D','N','Y','L','K','L','L','K','C','R','I','I','H','N','N','N','C',]\n",
    "sequence2 = ['P','I','D','N','Y','L','K','L','L','K','C','R','I','I','H','N','N','N','C']"
   ]
  },
  {
   "cell_type": "code",
   "execution_count": 5,
   "metadata": {
    "collapsed": false
   },
   "outputs": [],
   "source": [
    "# input_file = open('proteins.fasta')\n",
    "def read_fasta(file):\n",
    "    seq = []\n",
    "    name = None\n",
    "    for line in file:\n",
    "        line = line.rstrip()\n",
    "        if line.startswith(\">\"):\n",
    "            if name: \n",
    "                name = name.split(' ', 1)\n",
    "                yield (name, ''.join(seq))\n",
    "            name, seq = line, []\n",
    "        else:\n",
    "            seq.append(line)\n"
   ]
  },
  {
   "cell_type": "code",
   "execution_count": 6,
   "metadata": {
    "collapsed": true
   },
   "outputs": [],
   "source": [
    "import pandas as pd\n",
    "def output_k_homologs(reference_sequence, k):\n",
    "    file_name = open('proteins.fasta')\n",
    "    Names = []\n",
    "    Sequences = []\n",
    "    Distances = []\n",
    "    for ProteinName, Sequence in read_fasta(file_name):\n",
    "        Names.append(ProteinName[1])\n",
    "        Sequences.append(list(Sequence))\n",
    "\n",
    "    for seq in Sequences:\n",
    "        Distances.append(levenshtein(reference_sequence, seq))\n",
    "        \n",
    "    df = pd.DataFrame({'proteinName':Names, 'Sequence':Sequences, 'levenshteinDistance':Distances})\n",
    "    df = df[['proteinName','levenshteinDistance']]\n",
    "    df = df.sort_values(['levenshteinDistance']).head(k)\n",
    "    \n",
    "    return df"
   ]
  },
  {
   "cell_type": "markdown",
   "metadata": {
    "collapsed": true
   },
   "source": [
    "# Step 3.1"
   ]
  },
  {
   "cell_type": "code",
   "execution_count": 7,
   "metadata": {
    "collapsed": false
   },
   "outputs": [
    {
     "data": {
      "text/plain": [
       "208"
      ]
     },
     "execution_count": 7,
     "metadata": {},
     "output_type": "execute_result"
    }
   ],
   "source": [
    "levenshtein(sequence1, sequence2)"
   ]
  },
  {
   "cell_type": "code",
   "execution_count": 8,
   "metadata": {
    "collapsed": false
   },
   "outputs": [
    {
     "data": {
      "text/html": [
       "<div>\n",
       "<table border=\"1\" class=\"dataframe\">\n",
       "  <thead>\n",
       "    <tr style=\"text-align: right;\">\n",
       "      <th></th>\n",
       "      <th>proteinName</th>\n",
       "      <th>levenshteinDistance</th>\n",
       "    </tr>\n",
       "  </thead>\n",
       "  <tbody>\n",
       "    <tr>\n",
       "      <th>559</th>\n",
       "      <td>prolactin precursor [Homo sapiens]</td>\n",
       "      <td>0</td>\n",
       "    </tr>\n",
       "    <tr>\n",
       "      <th>791</th>\n",
       "      <td>PREDICTED: prolactin isoform X1 [Homo sapiens]</td>\n",
       "      <td>1</td>\n",
       "    </tr>\n",
       "    <tr>\n",
       "      <th>792</th>\n",
       "      <td>PREDICTED: prolactin isoform X1 [Homo sapiens]</td>\n",
       "      <td>1</td>\n",
       "    </tr>\n",
       "    <tr>\n",
       "      <th>671</th>\n",
       "      <td>PREDICTED: prolactin [Pongo abelii]</td>\n",
       "      <td>4</td>\n",
       "    </tr>\n",
       "    <tr>\n",
       "      <th>816</th>\n",
       "      <td>PREDICTED: prolactin isoform X2 [Pan troglodytes]</td>\n",
       "      <td>6</td>\n",
       "    </tr>\n",
       "    <tr>\n",
       "      <th>631</th>\n",
       "      <td>PREDICTED: prolactin [Nomascus leucogenys]</td>\n",
       "      <td>6</td>\n",
       "    </tr>\n",
       "    <tr>\n",
       "      <th>634</th>\n",
       "      <td>PREDICTED: prolactin [Nomascus leucogenys]</td>\n",
       "      <td>6</td>\n",
       "    </tr>\n",
       "    <tr>\n",
       "      <th>610</th>\n",
       "      <td>PREDICTED: prolactin [Pan paniscus]</td>\n",
       "      <td>6</td>\n",
       "    </tr>\n",
       "    <tr>\n",
       "      <th>817</th>\n",
       "      <td>PREDICTED: prolactin isoform X2 [Pan troglodytes]</td>\n",
       "      <td>6</td>\n",
       "    </tr>\n",
       "    <tr>\n",
       "      <th>569</th>\n",
       "      <td>prolactin precursor [Macaca mulatta]</td>\n",
       "      <td>7</td>\n",
       "    </tr>\n",
       "  </tbody>\n",
       "</table>\n",
       "</div>"
      ],
      "text/plain": [
       "                                           proteinName  levenshteinDistance\n",
       "559                 prolactin precursor [Homo sapiens]                    0\n",
       "791     PREDICTED: prolactin isoform X1 [Homo sapiens]                    1\n",
       "792     PREDICTED: prolactin isoform X1 [Homo sapiens]                    1\n",
       "671                PREDICTED: prolactin [Pongo abelii]                    4\n",
       "816  PREDICTED: prolactin isoform X2 [Pan troglodytes]                    6\n",
       "631         PREDICTED: prolactin [Nomascus leucogenys]                    6\n",
       "634         PREDICTED: prolactin [Nomascus leucogenys]                    6\n",
       "610                PREDICTED: prolactin [Pan paniscus]                    6\n",
       "817  PREDICTED: prolactin isoform X2 [Pan troglodytes]                    6\n",
       "569               prolactin precursor [Macaca mulatta]                    7"
      ]
     },
     "execution_count": 8,
     "metadata": {},
     "output_type": "execute_result"
    }
   ],
   "source": [
    "output_k_homologs(sequence1, 10)"
   ]
  },
  {
   "cell_type": "code",
   "execution_count": null,
   "metadata": {
    "collapsed": true
   },
   "outputs": [],
   "source": []
  }
 ],
 "metadata": {
  "kernelspec": {
   "display_name": "Python 3",
   "language": "python",
   "name": "python3"
  },
  "language_info": {
   "codemirror_mode": {
    "name": "ipython",
    "version": 3
   },
   "file_extension": ".py",
   "mimetype": "text/x-python",
   "name": "python",
   "nbconvert_exporter": "python",
   "pygments_lexer": "ipython3",
   "version": "3.5.2"
  }
 },
 "nbformat": 4,
 "nbformat_minor": 2
}
