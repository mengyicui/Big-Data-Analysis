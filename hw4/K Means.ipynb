{
 "cells": [
  {
   "cell_type": "markdown",
   "metadata": {},
   "source": [
    "# Homework 4 Step 2\n",
    "## K-Means Clustering\n",
    "\n",
    "Here, we will explore the k-means clustering algorithm discussed in class, once again using the Iris dataset."
   ]
  },
  {
   "cell_type": "markdown",
   "metadata": {},
   "source": [
    "## Step 2.1\n",
    "\n",
    "Download the Iris flower data set and run the `sklearn` version of k means on it.\n",
    "Then, we'll compute the error of the model on the training data."
   ]
  },
  {
   "cell_type": "code",
   "execution_count": 1,
   "metadata": {
    "collapsed": false
   },
   "outputs": [],
   "source": [
    "import pandas as pd\n",
    "import sklearn\n",
    "from sklearn.datasets import make_blobs\n",
    "import matplotlib.pyplot as plt\n",
    "import matplotlib.lines as mlines\n",
    "import numpy as np\n",
    "\n",
    "iris_df = pd.read_csv('https://archive.ics.uci.edu/ml/machine-learning-databases/iris/iris.data', \\\n",
    "                     header=None,\\\n",
    "                     names=['sepal_length','sepal_width','petal_length','petal_width','class'])"
   ]
  },
  {
   "cell_type": "code",
   "execution_count": 2,
   "metadata": {
    "collapsed": false
   },
   "outputs": [],
   "source": [
    "from sklearn.cluster import KMeans\n",
    "import pandas as pd\n",
    "km = KMeans(n_clusters=3,\n",
    "           init='random',\n",
    "           n_init=30,\n",
    "           max_iter=300,\n",
    "           tol=1e-04,\n",
    "           random_state=0)\n",
    "iris_model = km.fit(iris_df.drop(['class'], axis=1).as_matrix())\n",
    "predicted_df = pd.DataFrame({'predicted':iris_model.labels_.tolist()})\n",
    "# predicted_df"
   ]
  },
  {
   "cell_type": "code",
   "execution_count": 3,
   "metadata": {
    "collapsed": false
   },
   "outputs": [],
   "source": [
    "iris_df_km = pd.concat([iris_df, predicted_df], axis = 1)\n",
    "iris_df_km[['class']] = iris_df_km[['class']].replace(['Iris-setosa','Iris-versicolor','Iris-virginica'],[0, 1, 2])\n",
    "iris_df_misclassified = iris_df_km[(iris_df_km['class'] != iris_df_km['predicted'])].reset_index()\n",
    "iris_df_misclassified_count = iris_df_misclassified['class'].count()\n",
    "iris_df_misclassified_count = pd.DataFrame({'count':[iris_df_misclassified_count]})"
   ]
  },
  {
   "cell_type": "markdown",
   "metadata": {},
   "source": [
    "### Step 2.1 Results"
   ]
  },
  {
   "cell_type": "code",
   "execution_count": 4,
   "metadata": {
    "collapsed": false
   },
   "outputs": [
    {
     "data": {
      "text/html": [
       "<div>\n",
       "<table border=\"1\" class=\"dataframe\">\n",
       "  <thead>\n",
       "    <tr style=\"text-align: right;\">\n",
       "      <th></th>\n",
       "      <th>index</th>\n",
       "      <th>sepal_length</th>\n",
       "      <th>sepal_width</th>\n",
       "      <th>petal_length</th>\n",
       "      <th>petal_width</th>\n",
       "      <th>class</th>\n",
       "      <th>predicted</th>\n",
       "    </tr>\n",
       "  </thead>\n",
       "  <tbody>\n",
       "    <tr>\n",
       "      <th>0</th>\n",
       "      <td>52</td>\n",
       "      <td>6.9</td>\n",
       "      <td>3.1</td>\n",
       "      <td>4.9</td>\n",
       "      <td>1.5</td>\n",
       "      <td>1</td>\n",
       "      <td>2</td>\n",
       "    </tr>\n",
       "    <tr>\n",
       "      <th>1</th>\n",
       "      <td>77</td>\n",
       "      <td>6.7</td>\n",
       "      <td>3.0</td>\n",
       "      <td>5.0</td>\n",
       "      <td>1.7</td>\n",
       "      <td>1</td>\n",
       "      <td>2</td>\n",
       "    </tr>\n",
       "    <tr>\n",
       "      <th>2</th>\n",
       "      <td>101</td>\n",
       "      <td>5.8</td>\n",
       "      <td>2.7</td>\n",
       "      <td>5.1</td>\n",
       "      <td>1.9</td>\n",
       "      <td>2</td>\n",
       "      <td>1</td>\n",
       "    </tr>\n",
       "    <tr>\n",
       "      <th>3</th>\n",
       "      <td>106</td>\n",
       "      <td>4.9</td>\n",
       "      <td>2.5</td>\n",
       "      <td>4.5</td>\n",
       "      <td>1.7</td>\n",
       "      <td>2</td>\n",
       "      <td>1</td>\n",
       "    </tr>\n",
       "    <tr>\n",
       "      <th>4</th>\n",
       "      <td>113</td>\n",
       "      <td>5.7</td>\n",
       "      <td>2.5</td>\n",
       "      <td>5.0</td>\n",
       "      <td>2.0</td>\n",
       "      <td>2</td>\n",
       "      <td>1</td>\n",
       "    </tr>\n",
       "    <tr>\n",
       "      <th>5</th>\n",
       "      <td>114</td>\n",
       "      <td>5.8</td>\n",
       "      <td>2.8</td>\n",
       "      <td>5.1</td>\n",
       "      <td>2.4</td>\n",
       "      <td>2</td>\n",
       "      <td>1</td>\n",
       "    </tr>\n",
       "    <tr>\n",
       "      <th>6</th>\n",
       "      <td>119</td>\n",
       "      <td>6.0</td>\n",
       "      <td>2.2</td>\n",
       "      <td>5.0</td>\n",
       "      <td>1.5</td>\n",
       "      <td>2</td>\n",
       "      <td>1</td>\n",
       "    </tr>\n",
       "    <tr>\n",
       "      <th>7</th>\n",
       "      <td>121</td>\n",
       "      <td>5.6</td>\n",
       "      <td>2.8</td>\n",
       "      <td>4.9</td>\n",
       "      <td>2.0</td>\n",
       "      <td>2</td>\n",
       "      <td>1</td>\n",
       "    </tr>\n",
       "    <tr>\n",
       "      <th>8</th>\n",
       "      <td>123</td>\n",
       "      <td>6.3</td>\n",
       "      <td>2.7</td>\n",
       "      <td>4.9</td>\n",
       "      <td>1.8</td>\n",
       "      <td>2</td>\n",
       "      <td>1</td>\n",
       "    </tr>\n",
       "    <tr>\n",
       "      <th>9</th>\n",
       "      <td>126</td>\n",
       "      <td>6.2</td>\n",
       "      <td>2.8</td>\n",
       "      <td>4.8</td>\n",
       "      <td>1.8</td>\n",
       "      <td>2</td>\n",
       "      <td>1</td>\n",
       "    </tr>\n",
       "    <tr>\n",
       "      <th>10</th>\n",
       "      <td>127</td>\n",
       "      <td>6.1</td>\n",
       "      <td>3.0</td>\n",
       "      <td>4.9</td>\n",
       "      <td>1.8</td>\n",
       "      <td>2</td>\n",
       "      <td>1</td>\n",
       "    </tr>\n",
       "    <tr>\n",
       "      <th>11</th>\n",
       "      <td>133</td>\n",
       "      <td>6.3</td>\n",
       "      <td>2.8</td>\n",
       "      <td>5.1</td>\n",
       "      <td>1.5</td>\n",
       "      <td>2</td>\n",
       "      <td>1</td>\n",
       "    </tr>\n",
       "    <tr>\n",
       "      <th>12</th>\n",
       "      <td>138</td>\n",
       "      <td>6.0</td>\n",
       "      <td>3.0</td>\n",
       "      <td>4.8</td>\n",
       "      <td>1.8</td>\n",
       "      <td>2</td>\n",
       "      <td>1</td>\n",
       "    </tr>\n",
       "    <tr>\n",
       "      <th>13</th>\n",
       "      <td>142</td>\n",
       "      <td>5.8</td>\n",
       "      <td>2.7</td>\n",
       "      <td>5.1</td>\n",
       "      <td>1.9</td>\n",
       "      <td>2</td>\n",
       "      <td>1</td>\n",
       "    </tr>\n",
       "    <tr>\n",
       "      <th>14</th>\n",
       "      <td>146</td>\n",
       "      <td>6.3</td>\n",
       "      <td>2.5</td>\n",
       "      <td>5.0</td>\n",
       "      <td>1.9</td>\n",
       "      <td>2</td>\n",
       "      <td>1</td>\n",
       "    </tr>\n",
       "    <tr>\n",
       "      <th>15</th>\n",
       "      <td>149</td>\n",
       "      <td>5.9</td>\n",
       "      <td>3.0</td>\n",
       "      <td>5.1</td>\n",
       "      <td>1.8</td>\n",
       "      <td>2</td>\n",
       "      <td>1</td>\n",
       "    </tr>\n",
       "  </tbody>\n",
       "</table>\n",
       "</div>"
      ],
      "text/plain": [
       "    index  sepal_length  sepal_width  petal_length  petal_width  class  \\\n",
       "0      52           6.9          3.1           4.9          1.5      1   \n",
       "1      77           6.7          3.0           5.0          1.7      1   \n",
       "2     101           5.8          2.7           5.1          1.9      2   \n",
       "3     106           4.9          2.5           4.5          1.7      2   \n",
       "4     113           5.7          2.5           5.0          2.0      2   \n",
       "5     114           5.8          2.8           5.1          2.4      2   \n",
       "6     119           6.0          2.2           5.0          1.5      2   \n",
       "7     121           5.6          2.8           4.9          2.0      2   \n",
       "8     123           6.3          2.7           4.9          1.8      2   \n",
       "9     126           6.2          2.8           4.8          1.8      2   \n",
       "10    127           6.1          3.0           4.9          1.8      2   \n",
       "11    133           6.3          2.8           5.1          1.5      2   \n",
       "12    138           6.0          3.0           4.8          1.8      2   \n",
       "13    142           5.8          2.7           5.1          1.9      2   \n",
       "14    146           6.3          2.5           5.0          1.9      2   \n",
       "15    149           5.9          3.0           5.1          1.8      2   \n",
       "\n",
       "    predicted  \n",
       "0           2  \n",
       "1           2  \n",
       "2           1  \n",
       "3           1  \n",
       "4           1  \n",
       "5           1  \n",
       "6           1  \n",
       "7           1  \n",
       "8           1  \n",
       "9           1  \n",
       "10          1  \n",
       "11          1  \n",
       "12          1  \n",
       "13          1  \n",
       "14          1  \n",
       "15          1  "
      ]
     },
     "execution_count": 4,
     "metadata": {},
     "output_type": "execute_result"
    }
   ],
   "source": [
    "iris_df_misclassified"
   ]
  },
  {
   "cell_type": "code",
   "execution_count": 5,
   "metadata": {
    "collapsed": false
   },
   "outputs": [
    {
     "data": {
      "text/html": [
       "<div>\n",
       "<table border=\"1\" class=\"dataframe\">\n",
       "  <thead>\n",
       "    <tr style=\"text-align: right;\">\n",
       "      <th></th>\n",
       "      <th>count</th>\n",
       "    </tr>\n",
       "  </thead>\n",
       "  <tbody>\n",
       "    <tr>\n",
       "      <th>0</th>\n",
       "      <td>16</td>\n",
       "    </tr>\n",
       "  </tbody>\n",
       "</table>\n",
       "</div>"
      ],
      "text/plain": [
       "   count\n",
       "0     16"
      ]
     },
     "execution_count": 5,
     "metadata": {},
     "output_type": "execute_result"
    }
   ],
   "source": [
    "iris_df_misclassified_count"
   ]
  },
  {
   "cell_type": "markdown",
   "metadata": {},
   "source": [
    "## Step 2.2\n",
    "\n",
    "Plot the sample data with respect to the sepal lengths and widths, and then with respect to the petal lengths and widths. If you had to pick, which pair of features should you use in your clustering?"
   ]
  },
  {
   "cell_type": "code",
   "execution_count": 6,
   "metadata": {
    "collapsed": false,
    "scrolled": false
   },
   "outputs": [
    {
     "data": {
      "image/png": "[encoded data removed]",
      "text/plain": [
       "<matplotlib.figure.Figure at 0x7f27f5836358>"
      ]
     },
     "metadata": {},
     "output_type": "display_data"
    }
   ],
   "source": [
    "plt.figure(1)\n",
    "plt.clf()\n",
    "plt.scatter(iris_df_km.sepal_length, iris_df_km.sepal_width, c=iris_df_km['class'], marker='.', s=100, edgecolor='None')\n",
    "plt.xlabel('Sepal Length (cm)')\n",
    "plt.ylabel('Sepal Width (cm)')\n",
    "plt.title('Iris Dataset: Sepal Width vs. Sepal Length')\n",
    "plt.show()"
   ]
  },
  {
   "cell_type": "code",
   "execution_count": 7,
   "metadata": {
    "collapsed": false
   },
   "outputs": [
    {
     "data": {
      "image/png": "[encoded data removed]",
      "text/plain": [
       "<matplotlib.figure.Figure at 0x7f27f5335470>"
      ]
     },
     "metadata": {},
     "output_type": "display_data"
    }
   ],
   "source": [
    "plt.figure(2)\n",
    "plt.clf()\n",
    "plt.scatter(iris_df_km.petal_length, iris_df_km.petal_width, c=iris_df_km['class'], marker='.', s=100, edgecolor='None')\n",
    "plt.xlabel('Petal Length (cm)')\n",
    "plt.ylabel('Petal Width (cm)')\n",
    "plt.title('Iris Dataset: Petal Width vs. Petal Length')\n",
    "plt.show()"
   ]
  },
  {
   "cell_type": "markdown",
   "metadata": {},
   "source": [
    "## Step 2.3\n",
    "\n",
    "Now that you've figured out which subset of features you want to use, try using `sklearn`'s built-in KMeans to model the data."
   ]
  },
  {
   "cell_type": "markdown",
   "metadata": {},
   "source": [
    "Let's see how well the classifier works on the training data. Determine which data points are incorrectly labeled by the classifier."
   ]
  },
  {
   "cell_type": "code",
   "execution_count": 8,
   "metadata": {
    "collapsed": false
   },
   "outputs": [],
   "source": [
    "from sklearn.cluster import KMeans\n",
    "import pandas as pd\n",
    "km = KMeans(n_clusters=3,\n",
    "           init='random',\n",
    "           n_init=30,\n",
    "           max_iter=300,\n",
    "           tol=1e-04,\n",
    "           random_state=0)\n",
    "iris_model_new = km.fit(iris_df.drop(['sepal_length','sepal_width','class'], axis=1).as_matrix())\n",
    "predicted_df_new = pd.DataFrame({'predicted':iris_model_new.labels_.tolist()})\n",
    "\n",
    "iris_df_km_new = pd.concat([iris_df, predicted_df_new], axis = 1)\n",
    "iris_df_km_new[['class']] = iris_df_km_new[['class']].replace(['Iris-setosa','Iris-versicolor','Iris-virginica'],[2, 1, 0])\n",
    "iris_df_misclassified_new = iris_df_km_new[(iris_df_km_new['class'] != iris_df_km_new['predicted'])].reset_index()\n",
    "iris_df_misclassified_count_new = iris_df_misclassified_new['class'].count()\n",
    "iris_df_misclassified_count_new = pd.DataFrame({'count':[iris_df_misclassified_count_new]})"
   ]
  },
  {
   "cell_type": "markdown",
   "metadata": {},
   "source": [
    "### Step 2.3 Results"
   ]
  },
  {
   "cell_type": "code",
   "execution_count": 9,
   "metadata": {
    "collapsed": false
   },
   "outputs": [
    {
     "data": {
      "text/html": [
       "<div>\n",
       "<table border=\"1\" class=\"dataframe\">\n",
       "  <thead>\n",
       "    <tr style=\"text-align: right;\">\n",
       "      <th></th>\n",
       "      <th>index</th>\n",
       "      <th>sepal_length</th>\n",
       "      <th>sepal_width</th>\n",
       "      <th>petal_length</th>\n",
       "      <th>petal_width</th>\n",
       "      <th>class</th>\n",
       "      <th>predicted</th>\n",
       "    </tr>\n",
       "  </thead>\n",
       "  <tbody>\n",
       "    <tr>\n",
       "      <th>0</th>\n",
       "      <td>77</td>\n",
       "      <td>6.7</td>\n",
       "      <td>3.0</td>\n",
       "      <td>5.0</td>\n",
       "      <td>1.7</td>\n",
       "      <td>1</td>\n",
       "      <td>0</td>\n",
       "    </tr>\n",
       "    <tr>\n",
       "      <th>1</th>\n",
       "      <td>83</td>\n",
       "      <td>6.0</td>\n",
       "      <td>2.7</td>\n",
       "      <td>5.1</td>\n",
       "      <td>1.6</td>\n",
       "      <td>1</td>\n",
       "      <td>0</td>\n",
       "    </tr>\n",
       "    <tr>\n",
       "      <th>2</th>\n",
       "      <td>106</td>\n",
       "      <td>4.9</td>\n",
       "      <td>2.5</td>\n",
       "      <td>4.5</td>\n",
       "      <td>1.7</td>\n",
       "      <td>0</td>\n",
       "      <td>1</td>\n",
       "    </tr>\n",
       "    <tr>\n",
       "      <th>3</th>\n",
       "      <td>119</td>\n",
       "      <td>6.0</td>\n",
       "      <td>2.2</td>\n",
       "      <td>5.0</td>\n",
       "      <td>1.5</td>\n",
       "      <td>0</td>\n",
       "      <td>1</td>\n",
       "    </tr>\n",
       "    <tr>\n",
       "      <th>4</th>\n",
       "      <td>126</td>\n",
       "      <td>6.2</td>\n",
       "      <td>2.8</td>\n",
       "      <td>4.8</td>\n",
       "      <td>1.8</td>\n",
       "      <td>0</td>\n",
       "      <td>1</td>\n",
       "    </tr>\n",
       "    <tr>\n",
       "      <th>5</th>\n",
       "      <td>138</td>\n",
       "      <td>6.0</td>\n",
       "      <td>3.0</td>\n",
       "      <td>4.8</td>\n",
       "      <td>1.8</td>\n",
       "      <td>0</td>\n",
       "      <td>1</td>\n",
       "    </tr>\n",
       "  </tbody>\n",
       "</table>\n",
       "</div>"
      ],
      "text/plain": [
       "   index  sepal_length  sepal_width  petal_length  petal_width  class  \\\n",
       "0     77           6.7          3.0           5.0          1.7      1   \n",
       "1     83           6.0          2.7           5.1          1.6      1   \n",
       "2    106           4.9          2.5           4.5          1.7      0   \n",
       "3    119           6.0          2.2           5.0          1.5      0   \n",
       "4    126           6.2          2.8           4.8          1.8      0   \n",
       "5    138           6.0          3.0           4.8          1.8      0   \n",
       "\n",
       "   predicted  \n",
       "0          0  \n",
       "1          0  \n",
       "2          1  \n",
       "3          1  \n",
       "4          1  \n",
       "5          1  "
      ]
     },
     "execution_count": 9,
     "metadata": {},
     "output_type": "execute_result"
    }
   ],
   "source": [
    "iris_df_misclassified_new"
   ]
  },
  {
   "cell_type": "code",
   "execution_count": 10,
   "metadata": {
    "collapsed": false
   },
   "outputs": [
    {
     "data": {
      "text/html": [
       "<div>\n",
       "<table border=\"1\" class=\"dataframe\">\n",
       "  <thead>\n",
       "    <tr style=\"text-align: right;\">\n",
       "      <th></th>\n",
       "      <th>count</th>\n",
       "    </tr>\n",
       "  </thead>\n",
       "  <tbody>\n",
       "    <tr>\n",
       "      <th>0</th>\n",
       "      <td>6</td>\n",
       "    </tr>\n",
       "  </tbody>\n",
       "</table>\n",
       "</div>"
      ],
      "text/plain": [
       "   count\n",
       "0      6"
      ]
     },
     "execution_count": 10,
     "metadata": {},
     "output_type": "execute_result"
    }
   ],
   "source": [
    "iris_df_misclassified_count_new"
   ]
  },
  {
   "cell_type": "markdown",
   "metadata": {},
   "source": [
    "## Step 2.4\n",
    "\n",
    "In the below code, follow the comments to replace the necessary sections and then evaluate the cell."
   ]
  },
  {
   "cell_type": "code",
   "execution_count": 11,
   "metadata": {
    "collapsed": false,
    "scrolled": true
   },
   "outputs": [
    {
     "data": {
      "image/png": "[encoded data removed]",
      "text/plain": [
       "<matplotlib.figure.Figure at 0x7f27f2b07d30>"
      ]
     },
     "metadata": {},
     "output_type": "display_data"
    }
   ],
   "source": [
    "# Mesh step size.\n",
    "h = 0.02\n",
    "# Plot decision boundary.\n",
    "\n",
    "# TODO: Replace iris_df_res with your combined iris dataframe & predicted labels.\n",
    "px_min, px_max = iris_df_km_new.petal_length.min() - 1, iris_df_km_new.petal_length.max() + 1\n",
    "py_min, py_max = iris_df_km_new.petal_length.min() - 1, iris_df_km_new.petal_length.max() + 1\n",
    "pxx, pyy = np.meshgrid(np.arange(px_min, px_max, h), np.arange(py_min, py_max, h))\n",
    "# Label each point in the mesh for a color grid.\n",
    "Z = iris_model_new.predict(np.c_[pxx.ravel(),pyy.ravel()])\n",
    "Z = Z.reshape(pxx.shape)\n",
    "\n",
    "# TODO: Replace y_km with your trained K-Means model.\n",
    "centroids = iris_model_new.cluster_centers_\n",
    "plt.figure(3)\n",
    "plt.clf()\n",
    "plt.imshow(Z, interpolation='nearest',\n",
    "           extent=(pxx.min(), pxx.max(), pyy.min(), pyy.max()),\n",
    "           cmap=plt.cm.Paired,\n",
    "           aspect='auto', origin='lower')\n",
    "# Draw sample data points. \n",
    "\n",
    "# TODO: Replace iris_df_res with your combined iris dataframe & predicted labels.\n",
    "plt.scatter(iris_df_km_new.petal_length, iris_df_km_new.petal_width, c=iris_df_km_new['predicted'], marker='.', s=100, edgecolor='None')\n",
    "# Draw centroids\n",
    "plt.plot(centroids[:, 0], centroids[:, 1], 'wx', markersize=10, zorder=1, mew=3)\n",
    "\n",
    "plt.title('K-Means Clustering on Iris Flower Dataset')\n",
    "plt.xlim(px_min, px_max)\n",
    "plt.ylim(py_min, py_max)\n",
    "# plt.xticks(())\n",
    "# plt.yticks(())\n",
    "plt.xlabel('Petal Length (cm)')\n",
    "plt.ylabel('Petal Width (cm)')\n",
    "\n",
    "setosa_point = mlines.Line2D([], [], color='maroon', marker='.', markersize=11, label='Iris setosa', linestyle='')\n",
    "versicolor_point = mlines.Line2D([], [], color='lawngreen', marker='.', markersize=11, label='Iris versicolor', linestyle='')\n",
    "virginica_point = mlines.Line2D([], [], color='navy', marker='.', markersize=11, label='Iris virginica', linestyle='')\n",
    "centroid_point = mlines.Line2D([], [], color='0.97', marker='x', markersize=10, mew=3, label='centroid', linestyle='')\n",
    "legend = plt.legend(handles=[setosa_point, versicolor_point, virginica_point, centroid_point], numpoints=1, loc=2)\n",
    "legend_frame = legend.get_frame()\n",
    "legend_frame.set_facecolor('0.87')\n",
    "\n",
    "plt.show()"
   ]
  },
  {
   "cell_type": "code",
   "execution_count": null,
   "metadata": {
    "collapsed": true
   },
   "outputs": [],
   "source": []
  }
 ],
 "metadata": {
  "kernelspec": {
   "display_name": "Python 3",
   "language": "python",
   "name": "python3"
  },
  "language_info": {
   "codemirror_mode": {
    "name": "ipython",
    "version": 3
   },
   "file_extension": ".py",
   "mimetype": "text/x-python",
   "name": "python",
   "nbconvert_exporter": "python",
   "pygments_lexer": "ipython3",
   "version": "3.5.2"
  }
 },
 "nbformat": 4,
 "nbformat_minor": 2
}
