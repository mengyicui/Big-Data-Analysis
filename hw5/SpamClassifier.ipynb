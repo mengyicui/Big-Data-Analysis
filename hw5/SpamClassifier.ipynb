{
 "cells": [
  {
   "cell_type": "markdown",
   "metadata": {},
   "source": [
    "# Homework 5 Part I: Spam Classification in SciKit-Learn\n",
    "\n",
    "This assignment uses data from https://archive.ics.uci.edu/ml/datasets/SMS+Spam+Collection\n",
    "\n",
    "Data processing was inspired by https://www.kaggle.com/overflow012/d/uciml/sms-spam-collection-dataset/text-preprocessing-classification"
   ]
  },
  {
   "cell_type": "markdown",
   "metadata": {},
   "source": [
    "Before getting started, run this to upgrade SciKit-Learn from 0.17 to 0.18.1.  Then go to Kernel | Restart in Jupyter."
   ]
  },
  {
   "cell_type": "code",
   "execution_count": 1,
   "metadata": {
    "collapsed": false
   },
   "outputs": [
    {
     "name": "stdout",
     "output_type": "stream",
     "text": [
      "Collecting scikit-learn\n",
      "  Downloading scikit_learn-0.18.1-cp35-cp35m-manylinux1_x86_64.whl (11.7MB)\n",
      "\u001b[K    100% |████████████████████████████████| 11.7MB 85kB/s  eta 0:00:01  8% |██▊                             | 1.0MB 5.9MB/s eta 0:00:02    12% |███▉                            | 1.4MB 6.8MB/s eta 0:00:02\n",
      "\u001b[?25hInstalling collected packages: scikit-learn\n",
      "  Found existing installation: scikit-learn 0.18\n",
      "    Uninstalling scikit-learn-0.18:\n",
      "      Successfully uninstalled scikit-learn-0.18\n",
      "Successfully installed scikit-learn-0.18.1\n",
      "\u001b[33mYou are using pip version 8.1.2, however version 9.0.1 is available.\n",
      "You should consider upgrading via the 'pip install --upgrade pip' command.\u001b[0m\n"
     ]
    }
   ],
   "source": [
    "! pip install -U scikit-learn"
   ]
  },
  {
   "cell_type": "code",
   "execution_count": 41,
   "metadata": {
    "collapsed": true
   },
   "outputs": [],
   "source": [
    "import pandas as pd\n",
    "\n",
    "####\n",
    "# Helper function:\n",
    "#  Return the k most frequently appearing keywords in the dataframe\n",
    "def top_k(data_df, vec, k):\n",
    "    X = vec.fit_transform(data_df['sms'].values)\n",
    "    labels = vec.get_feature_names()\n",
    "    \n",
    "    return pd.DataFrame(columns = labels, data = X.toarray()).sum().sort_values(ascending = False)[:k]\n",
    "\n",
    "\n",
    "\n",
    "sms_df = pd.read_csv('spam.csv', encoding='latin-1')\n",
    "sms_df.columns = ['class', 'sms', 'a', 'b', 'c']\n"
   ]
  },
  {
   "cell_type": "markdown",
   "metadata": {},
   "source": [
    "## Step 1.1 Data Wrangling\n",
    "\n",
    "Clean up sms_df.  Delete 'a', 'b', 'c', lowercase the sms text"
   ]
  },
  {
   "cell_type": "code",
   "execution_count": 42,
   "metadata": {
    "collapsed": false
   },
   "outputs": [],
   "source": [
    "## Data wrangling / cleaning\n",
    "sms_df = sms_df.drop(['a','b','c'], axis = 1)"
   ]
  },
  {
   "cell_type": "markdown",
   "metadata": {},
   "source": [
    "### Step 1.1 Results"
   ]
  },
  {
   "cell_type": "code",
   "execution_count": 43,
   "metadata": {
    "collapsed": false
   },
   "outputs": [
    {
     "data": {
      "text/html": [
       "<div>\n",
       "<table border=\"1\" class=\"dataframe\">\n",
       "  <thead>\n",
       "    <tr style=\"text-align: right;\">\n",
       "      <th></th>\n",
       "      <th>class</th>\n",
       "      <th>sms</th>\n",
       "    </tr>\n",
       "  </thead>\n",
       "  <tbody>\n",
       "    <tr>\n",
       "      <th>0</th>\n",
       "      <td>ham</td>\n",
       "      <td>Go until jurong point, crazy.. Available only ...</td>\n",
       "    </tr>\n",
       "    <tr>\n",
       "      <th>1</th>\n",
       "      <td>ham</td>\n",
       "      <td>Ok lar... Joking wif u oni...</td>\n",
       "    </tr>\n",
       "    <tr>\n",
       "      <th>2</th>\n",
       "      <td>spam</td>\n",
       "      <td>Free entry in 2 a wkly comp to win FA Cup fina...</td>\n",
       "    </tr>\n",
       "    <tr>\n",
       "      <th>3</th>\n",
       "      <td>ham</td>\n",
       "      <td>U dun say so early hor... U c already then say...</td>\n",
       "    </tr>\n",
       "    <tr>\n",
       "      <th>4</th>\n",
       "      <td>ham</td>\n",
       "      <td>Nah I don't think he goes to usf, he lives aro...</td>\n",
       "    </tr>\n",
       "    <tr>\n",
       "      <th>5</th>\n",
       "      <td>spam</td>\n",
       "      <td>FreeMsg Hey there darling it's been 3 week's n...</td>\n",
       "    </tr>\n",
       "    <tr>\n",
       "      <th>6</th>\n",
       "      <td>ham</td>\n",
       "      <td>Even my brother is not like to speak with me. ...</td>\n",
       "    </tr>\n",
       "    <tr>\n",
       "      <th>7</th>\n",
       "      <td>ham</td>\n",
       "      <td>As per your request 'Melle Melle (Oru Minnamin...</td>\n",
       "    </tr>\n",
       "    <tr>\n",
       "      <th>8</th>\n",
       "      <td>spam</td>\n",
       "      <td>WINNER!! As a valued network customer you have...</td>\n",
       "    </tr>\n",
       "    <tr>\n",
       "      <th>9</th>\n",
       "      <td>spam</td>\n",
       "      <td>Had your mobile 11 months or more? U R entitle...</td>\n",
       "    </tr>\n",
       "    <tr>\n",
       "      <th>10</th>\n",
       "      <td>ham</td>\n",
       "      <td>I'm gonna be home soon and i don't want to tal...</td>\n",
       "    </tr>\n",
       "    <tr>\n",
       "      <th>11</th>\n",
       "      <td>spam</td>\n",
       "      <td>SIX chances to win CASH! From 100 to 20,000 po...</td>\n",
       "    </tr>\n",
       "    <tr>\n",
       "      <th>12</th>\n",
       "      <td>spam</td>\n",
       "      <td>URGENT! You have won a 1 week FREE membership ...</td>\n",
       "    </tr>\n",
       "    <tr>\n",
       "      <th>13</th>\n",
       "      <td>ham</td>\n",
       "      <td>I've been searching for the right words to tha...</td>\n",
       "    </tr>\n",
       "    <tr>\n",
       "      <th>14</th>\n",
       "      <td>ham</td>\n",
       "      <td>I HAVE A DATE ON SUNDAY WITH WILL!!</td>\n",
       "    </tr>\n",
       "    <tr>\n",
       "      <th>15</th>\n",
       "      <td>spam</td>\n",
       "      <td>XXXMobileMovieClub: To use your credit, click ...</td>\n",
       "    </tr>\n",
       "    <tr>\n",
       "      <th>16</th>\n",
       "      <td>ham</td>\n",
       "      <td>Oh k...i'm watching here:)</td>\n",
       "    </tr>\n",
       "    <tr>\n",
       "      <th>17</th>\n",
       "      <td>ham</td>\n",
       "      <td>Eh u remember how 2 spell his name... Yes i di...</td>\n",
       "    </tr>\n",
       "    <tr>\n",
       "      <th>18</th>\n",
       "      <td>ham</td>\n",
       "      <td>Fine if thatåÕs the way u feel. ThatåÕs the wa...</td>\n",
       "    </tr>\n",
       "    <tr>\n",
       "      <th>19</th>\n",
       "      <td>spam</td>\n",
       "      <td>England v Macedonia - dont miss the goals/team...</td>\n",
       "    </tr>\n",
       "    <tr>\n",
       "      <th>20</th>\n",
       "      <td>ham</td>\n",
       "      <td>Is that seriously how you spell his name?</td>\n",
       "    </tr>\n",
       "    <tr>\n",
       "      <th>21</th>\n",
       "      <td>ham</td>\n",
       "      <td>IÛ÷m going to try for 2 months ha ha only joking</td>\n",
       "    </tr>\n",
       "    <tr>\n",
       "      <th>22</th>\n",
       "      <td>ham</td>\n",
       "      <td>So Ì_ pay first lar... Then when is da stock c...</td>\n",
       "    </tr>\n",
       "    <tr>\n",
       "      <th>23</th>\n",
       "      <td>ham</td>\n",
       "      <td>Aft i finish my lunch then i go str down lor. ...</td>\n",
       "    </tr>\n",
       "    <tr>\n",
       "      <th>24</th>\n",
       "      <td>ham</td>\n",
       "      <td>Ffffffffff. Alright no way I can meet up with ...</td>\n",
       "    </tr>\n",
       "    <tr>\n",
       "      <th>25</th>\n",
       "      <td>ham</td>\n",
       "      <td>Just forced myself to eat a slice. I'm really ...</td>\n",
       "    </tr>\n",
       "    <tr>\n",
       "      <th>26</th>\n",
       "      <td>ham</td>\n",
       "      <td>Lol your always so convincing.</td>\n",
       "    </tr>\n",
       "    <tr>\n",
       "      <th>27</th>\n",
       "      <td>ham</td>\n",
       "      <td>Did you catch the bus ? Are you frying an egg ...</td>\n",
       "    </tr>\n",
       "    <tr>\n",
       "      <th>28</th>\n",
       "      <td>ham</td>\n",
       "      <td>I'm back &amp;amp; we're packing the car now, I'll...</td>\n",
       "    </tr>\n",
       "    <tr>\n",
       "      <th>29</th>\n",
       "      <td>ham</td>\n",
       "      <td>Ahhh. Work. I vaguely remember that! What does...</td>\n",
       "    </tr>\n",
       "    <tr>\n",
       "      <th>...</th>\n",
       "      <td>...</td>\n",
       "      <td>...</td>\n",
       "    </tr>\n",
       "    <tr>\n",
       "      <th>5542</th>\n",
       "      <td>ham</td>\n",
       "      <td>Armand says get your ass over to epsilon</td>\n",
       "    </tr>\n",
       "    <tr>\n",
       "      <th>5543</th>\n",
       "      <td>ham</td>\n",
       "      <td>U still havent got urself a jacket ah?</td>\n",
       "    </tr>\n",
       "    <tr>\n",
       "      <th>5544</th>\n",
       "      <td>ham</td>\n",
       "      <td>I'm taking derek &amp;amp; taylor to walmart, if I...</td>\n",
       "    </tr>\n",
       "    <tr>\n",
       "      <th>5545</th>\n",
       "      <td>ham</td>\n",
       "      <td>Hi its in durban are you still on this number</td>\n",
       "    </tr>\n",
       "    <tr>\n",
       "      <th>5546</th>\n",
       "      <td>ham</td>\n",
       "      <td>Ic. There are a lotta childporn cars then.</td>\n",
       "    </tr>\n",
       "    <tr>\n",
       "      <th>5547</th>\n",
       "      <td>spam</td>\n",
       "      <td>Had your contract mobile 11 Mnths? Latest Moto...</td>\n",
       "    </tr>\n",
       "    <tr>\n",
       "      <th>5548</th>\n",
       "      <td>ham</td>\n",
       "      <td>No, I was trying it all weekend ;V</td>\n",
       "    </tr>\n",
       "    <tr>\n",
       "      <th>5549</th>\n",
       "      <td>ham</td>\n",
       "      <td>You know, wot people wear. T shirts, jumpers, ...</td>\n",
       "    </tr>\n",
       "    <tr>\n",
       "      <th>5550</th>\n",
       "      <td>ham</td>\n",
       "      <td>Cool, what time you think you can get here?</td>\n",
       "    </tr>\n",
       "    <tr>\n",
       "      <th>5551</th>\n",
       "      <td>ham</td>\n",
       "      <td>Wen did you get so spiritual and deep. That's ...</td>\n",
       "    </tr>\n",
       "    <tr>\n",
       "      <th>5552</th>\n",
       "      <td>ham</td>\n",
       "      <td>Have a safe trip to Nigeria. Wish you happines...</td>\n",
       "    </tr>\n",
       "    <tr>\n",
       "      <th>5553</th>\n",
       "      <td>ham</td>\n",
       "      <td>Hahaha..use your brain dear</td>\n",
       "    </tr>\n",
       "    <tr>\n",
       "      <th>5554</th>\n",
       "      <td>ham</td>\n",
       "      <td>Well keep in mind I've only got enough gas for...</td>\n",
       "    </tr>\n",
       "    <tr>\n",
       "      <th>5555</th>\n",
       "      <td>ham</td>\n",
       "      <td>Yeh. Indians was nice. Tho it did kane me off ...</td>\n",
       "    </tr>\n",
       "    <tr>\n",
       "      <th>5556</th>\n",
       "      <td>ham</td>\n",
       "      <td>Yes i have. So that's why u texted. Pshew...mi...</td>\n",
       "    </tr>\n",
       "    <tr>\n",
       "      <th>5557</th>\n",
       "      <td>ham</td>\n",
       "      <td>No. I meant the calculation is the same. That ...</td>\n",
       "    </tr>\n",
       "    <tr>\n",
       "      <th>5558</th>\n",
       "      <td>ham</td>\n",
       "      <td>Sorry, I'll call later</td>\n",
       "    </tr>\n",
       "    <tr>\n",
       "      <th>5559</th>\n",
       "      <td>ham</td>\n",
       "      <td>if you aren't here in the next  &amp;lt;#&amp;gt;  hou...</td>\n",
       "    </tr>\n",
       "    <tr>\n",
       "      <th>5560</th>\n",
       "      <td>ham</td>\n",
       "      <td>Anything lor. Juz both of us lor.</td>\n",
       "    </tr>\n",
       "    <tr>\n",
       "      <th>5561</th>\n",
       "      <td>ham</td>\n",
       "      <td>Get me out of this dump heap. My mom decided t...</td>\n",
       "    </tr>\n",
       "    <tr>\n",
       "      <th>5562</th>\n",
       "      <td>ham</td>\n",
       "      <td>Ok lor... Sony ericsson salesman... I ask shuh...</td>\n",
       "    </tr>\n",
       "    <tr>\n",
       "      <th>5563</th>\n",
       "      <td>ham</td>\n",
       "      <td>Ard 6 like dat lor.</td>\n",
       "    </tr>\n",
       "    <tr>\n",
       "      <th>5564</th>\n",
       "      <td>ham</td>\n",
       "      <td>Why don't you wait 'til at least wednesday to ...</td>\n",
       "    </tr>\n",
       "    <tr>\n",
       "      <th>5565</th>\n",
       "      <td>ham</td>\n",
       "      <td>Huh y lei...</td>\n",
       "    </tr>\n",
       "    <tr>\n",
       "      <th>5566</th>\n",
       "      <td>spam</td>\n",
       "      <td>REMINDER FROM O2: To get 2.50 pounds free call...</td>\n",
       "    </tr>\n",
       "    <tr>\n",
       "      <th>5567</th>\n",
       "      <td>spam</td>\n",
       "      <td>This is the 2nd time we have tried 2 contact u...</td>\n",
       "    </tr>\n",
       "    <tr>\n",
       "      <th>5568</th>\n",
       "      <td>ham</td>\n",
       "      <td>Will Ì_ b going to esplanade fr home?</td>\n",
       "    </tr>\n",
       "    <tr>\n",
       "      <th>5569</th>\n",
       "      <td>ham</td>\n",
       "      <td>Pity, * was in mood for that. So...any other s...</td>\n",
       "    </tr>\n",
       "    <tr>\n",
       "      <th>5570</th>\n",
       "      <td>ham</td>\n",
       "      <td>The guy did some bitching but I acted like i'd...</td>\n",
       "    </tr>\n",
       "    <tr>\n",
       "      <th>5571</th>\n",
       "      <td>ham</td>\n",
       "      <td>Rofl. Its true to its name</td>\n",
       "    </tr>\n",
       "  </tbody>\n",
       "</table>\n",
       "<p>5572 rows × 2 columns</p>\n",
       "</div>"
      ],
      "text/plain": [
       "     class                                                sms\n",
       "0      ham  Go until jurong point, crazy.. Available only ...\n",
       "1      ham                      Ok lar... Joking wif u oni...\n",
       "2     spam  Free entry in 2 a wkly comp to win FA Cup fina...\n",
       "3      ham  U dun say so early hor... U c already then say...\n",
       "4      ham  Nah I don't think he goes to usf, he lives aro...\n",
       "5     spam  FreeMsg Hey there darling it's been 3 week's n...\n",
       "6      ham  Even my brother is not like to speak with me. ...\n",
       "7      ham  As per your request 'Melle Melle (Oru Minnamin...\n",
       "8     spam  WINNER!! As a valued network customer you have...\n",
       "9     spam  Had your mobile 11 months or more? U R entitle...\n",
       "10     ham  I'm gonna be home soon and i don't want to tal...\n",
       "11    spam  SIX chances to win CASH! From 100 to 20,000 po...\n",
       "12    spam  URGENT! You have won a 1 week FREE membership ...\n",
       "13     ham  I've been searching for the right words to tha...\n",
       "14     ham                I HAVE A DATE ON SUNDAY WITH WILL!!\n",
       "15    spam  XXXMobileMovieClub: To use your credit, click ...\n",
       "16     ham                         Oh k...i'm watching here:)\n",
       "17     ham  Eh u remember how 2 spell his name... Yes i di...\n",
       "18     ham  Fine if thatåÕs the way u feel. ThatåÕs the wa...\n",
       "19    spam  England v Macedonia - dont miss the goals/team...\n",
       "20     ham          Is that seriously how you spell his name?\n",
       "21     ham  IÛ÷m going to try for 2 months ha ha only joking\n",
       "22     ham  So Ì_ pay first lar... Then when is da stock c...\n",
       "23     ham  Aft i finish my lunch then i go str down lor. ...\n",
       "24     ham  Ffffffffff. Alright no way I can meet up with ...\n",
       "25     ham  Just forced myself to eat a slice. I'm really ...\n",
       "26     ham                     Lol your always so convincing.\n",
       "27     ham  Did you catch the bus ? Are you frying an egg ...\n",
       "28     ham  I'm back &amp; we're packing the car now, I'll...\n",
       "29     ham  Ahhh. Work. I vaguely remember that! What does...\n",
       "...    ...                                                ...\n",
       "5542   ham           Armand says get your ass over to epsilon\n",
       "5543   ham             U still havent got urself a jacket ah?\n",
       "5544   ham  I'm taking derek &amp; taylor to walmart, if I...\n",
       "5545   ham      Hi its in durban are you still on this number\n",
       "5546   ham         Ic. There are a lotta childporn cars then.\n",
       "5547  spam  Had your contract mobile 11 Mnths? Latest Moto...\n",
       "5548   ham                 No, I was trying it all weekend ;V\n",
       "5549   ham  You know, wot people wear. T shirts, jumpers, ...\n",
       "5550   ham        Cool, what time you think you can get here?\n",
       "5551   ham  Wen did you get so spiritual and deep. That's ...\n",
       "5552   ham  Have a safe trip to Nigeria. Wish you happines...\n",
       "5553   ham                        Hahaha..use your brain dear\n",
       "5554   ham  Well keep in mind I've only got enough gas for...\n",
       "5555   ham  Yeh. Indians was nice. Tho it did kane me off ...\n",
       "5556   ham  Yes i have. So that's why u texted. Pshew...mi...\n",
       "5557   ham  No. I meant the calculation is the same. That ...\n",
       "5558   ham                             Sorry, I'll call later\n",
       "5559   ham  if you aren't here in the next  &lt;#&gt;  hou...\n",
       "5560   ham                  Anything lor. Juz both of us lor.\n",
       "5561   ham  Get me out of this dump heap. My mom decided t...\n",
       "5562   ham  Ok lor... Sony ericsson salesman... I ask shuh...\n",
       "5563   ham                                Ard 6 like dat lor.\n",
       "5564   ham  Why don't you wait 'til at least wednesday to ...\n",
       "5565   ham                                       Huh y lei...\n",
       "5566  spam  REMINDER FROM O2: To get 2.50 pounds free call...\n",
       "5567  spam  This is the 2nd time we have tried 2 contact u...\n",
       "5568   ham              Will Ì_ b going to esplanade fr home?\n",
       "5569   ham  Pity, * was in mood for that. So...any other s...\n",
       "5570   ham  The guy did some bitching but I acted like i'd...\n",
       "5571   ham                         Rofl. Its true to its name\n",
       "\n",
       "[5572 rows x 2 columns]"
      ]
     },
     "execution_count": 43,
     "metadata": {},
     "output_type": "execute_result"
    }
   ],
   "source": [
    "sms_df"
   ]
  },
  {
   "cell_type": "code",
   "execution_count": 44,
   "metadata": {
    "collapsed": false
   },
   "outputs": [
    {
     "data": {
      "text/html": [
       "<div>\n",
       "<table border=\"1\" class=\"dataframe\">\n",
       "  <thead>\n",
       "    <tr style=\"text-align: right;\">\n",
       "      <th></th>\n",
       "      <th></th>\n",
       "      <th>sms</th>\n",
       "    </tr>\n",
       "    <tr>\n",
       "      <th>class</th>\n",
       "      <th></th>\n",
       "      <th></th>\n",
       "    </tr>\n",
       "  </thead>\n",
       "  <tbody>\n",
       "    <tr>\n",
       "      <th rowspan=\"4\" valign=\"top\">ham</th>\n",
       "      <th>count</th>\n",
       "      <td>4825</td>\n",
       "    </tr>\n",
       "    <tr>\n",
       "      <th>unique</th>\n",
       "      <td>4516</td>\n",
       "    </tr>\n",
       "    <tr>\n",
       "      <th>top</th>\n",
       "      <td>Sorry, I'll call later</td>\n",
       "    </tr>\n",
       "    <tr>\n",
       "      <th>freq</th>\n",
       "      <td>30</td>\n",
       "    </tr>\n",
       "    <tr>\n",
       "      <th rowspan=\"4\" valign=\"top\">spam</th>\n",
       "      <th>count</th>\n",
       "      <td>747</td>\n",
       "    </tr>\n",
       "    <tr>\n",
       "      <th>unique</th>\n",
       "      <td>653</td>\n",
       "    </tr>\n",
       "    <tr>\n",
       "      <th>top</th>\n",
       "      <td>Please call our customer service representativ...</td>\n",
       "    </tr>\n",
       "    <tr>\n",
       "      <th>freq</th>\n",
       "      <td>4</td>\n",
       "    </tr>\n",
       "  </tbody>\n",
       "</table>\n",
       "</div>"
      ],
      "text/plain": [
       "                                                            sms\n",
       "class                                                          \n",
       "ham   count                                                4825\n",
       "      unique                                               4516\n",
       "      top                                Sorry, I'll call later\n",
       "      freq                                                   30\n",
       "spam  count                                                 747\n",
       "      unique                                                653\n",
       "      top     Please call our customer service representativ...\n",
       "      freq                                                    4"
      ]
     },
     "execution_count": 44,
     "metadata": {},
     "output_type": "execute_result"
    }
   ],
   "source": [
    "sms_df.groupby('class').describe()"
   ]
  },
  {
   "cell_type": "markdown",
   "metadata": {},
   "source": [
    "## Step 1.2. Vectorizing the Text"
   ]
  },
  {
   "cell_type": "code",
   "execution_count": 45,
   "metadata": {
    "collapsed": false
   },
   "outputs": [],
   "source": [
    "## Generate feature vectors\n",
    "from sklearn.feature_extraction.text import CountVectorizer\n",
    "vec = CountVectorizer(decode_error = 'ignore', stop_words = 'english')"
   ]
  },
  {
   "cell_type": "markdown",
   "metadata": {},
   "source": [
    "## Let's see the most frequent terms in spam"
   ]
  },
  {
   "cell_type": "code",
   "execution_count": 46,
   "metadata": {
    "collapsed": false
   },
   "outputs": [
    {
     "data": {
      "text/plain": [
       "free          224\n",
       "txt           163\n",
       "ur            144\n",
       "mobile        127\n",
       "text          125\n",
       "stop          121\n",
       "claim         113\n",
       "reply         104\n",
       "www            98\n",
       "prize          93\n",
       "just           78\n",
       "cash           76\n",
       "won            76\n",
       "uk             74\n",
       "150p           71\n",
       "send           70\n",
       "new            69\n",
       "nokia          67\n",
       "win            64\n",
       "urgent         63\n",
       "tone           60\n",
       "week           60\n",
       "50             57\n",
       "contact        56\n",
       "service        56\n",
       "msg            54\n",
       "com            54\n",
       "18             51\n",
       "16             51\n",
       "guaranteed     50\n",
       "dtype: int64"
      ]
     },
     "execution_count": 46,
     "metadata": {},
     "output_type": "execute_result"
    }
   ],
   "source": [
    "top_spam = top_k(sms_df[sms_df['class'] == 'spam'], vec, 30)\n",
    "\n",
    "top_spam"
   ]
  },
  {
   "cell_type": "markdown",
   "metadata": {},
   "source": [
    "## Vs ham..."
   ]
  },
  {
   "cell_type": "code",
   "execution_count": 47,
   "metadata": {
    "collapsed": false
   },
   "outputs": [
    {
     "data": {
      "text/plain": [
       "gt       318\n",
       "lt       316\n",
       "just     293\n",
       "ok       287\n",
       "ll       265\n",
       "ur       241\n",
       "know     236\n",
       "good     233\n",
       "got      232\n",
       "like     232\n",
       "come     227\n",
       "day      209\n",
       "time     201\n",
       "love     199\n",
       "going    169\n",
       "home     165\n",
       "want     164\n",
       "lor      162\n",
       "need     158\n",
       "sorry    157\n",
       "don      151\n",
       "da       150\n",
       "today    139\n",
       "later    135\n",
       "dont     132\n",
       "did      129\n",
       "send     129\n",
       "think    128\n",
       "pls      123\n",
       "hi       122\n",
       "dtype: int64"
      ]
     },
     "execution_count": 47,
     "metadata": {},
     "output_type": "execute_result"
    }
   ],
   "source": [
    "top_ham = top_k(sms_df[sms_df['class'] == 'ham'], vec, 30)\n",
    "\n",
    "top_ham"
   ]
  },
  {
   "cell_type": "markdown",
   "metadata": {},
   "source": [
    "## Step 1.2.2 Regularize URLs and Numbers\n",
    "\n",
    "Import _regularize_ here, and use *regularize_urls* and *regularize_numbers*\n",
    "on the columns."
   ]
  },
  {
   "cell_type": "code",
   "execution_count": 48,
   "metadata": {
    "collapsed": false
   },
   "outputs": [],
   "source": [
    "# Regularize/tokenize URLs and numbers\n",
    "from regularize import regularize_urls, regularize_numbers\n",
    "sms_df['sms'] = regularize_numbers(regularize_urls(sms_df['sms']))\n",
    "X = vec.fit_transform(sms_df['sms'].values)\n",
    "\n",
    "top_spam = top_k(sms_df[sms_df['class'] == 'spam'], vec, 30)\n",
    "top_ham = top_k(sms_df[sms_df['class'] == 'ham'], vec, 30)\n"
   ]
  },
  {
   "cell_type": "markdown",
   "metadata": {},
   "source": [
    "## Step 1.2.2 Results\n",
    "\n",
    "Re-run the CountVectorizer, re-create vector X, and re-compute the top-30 spam terms.  Output the top-30 spam terms."
   ]
  },
  {
   "cell_type": "code",
   "execution_count": 49,
   "metadata": {
    "collapsed": false
   },
   "outputs": [
    {
     "data": {
      "text/plain": [
       "_num_         3289\n",
       "free           228\n",
       "txt            165\n",
       "ur             144\n",
       "_url_          141\n",
       "mobile         129\n",
       "stop           126\n",
       "text           125\n",
       "claim          113\n",
       "reply          104\n",
       "prize           92\n",
       "just            78\n",
       "won             76\n",
       "cash            76\n",
       "nokia           71\n",
       "send            70\n",
       "win             70\n",
       "new             69\n",
       "urgent          63\n",
       "week            60\n",
       "tone            59\n",
       "box             57\n",
       "msg             56\n",
       "service         56\n",
       "contact         56\n",
       "guaranteed      50\n",
       "ppm             49\n",
       "customer        49\n",
       "mins            47\n",
       "phone           46\n",
       "dtype: int64"
      ]
     },
     "execution_count": 49,
     "metadata": {},
     "output_type": "execute_result"
    }
   ],
   "source": [
    "# Top-30 spam terms\n",
    "top_spam"
   ]
  },
  {
   "cell_type": "markdown",
   "metadata": {},
   "source": [
    "## Step 1.3 Creating Features\n",
    "\n",
    "Take the top-30 spam + top-30 ham words, and create a new CountVectorizer,\n",
    "called *relevant_vec*, which _only_ includes those words.\n",
    "See http://scikit-learn.org/stable/modules/generated/sklearn.feature_extraction.text.CountVectorizer.html."
   ]
  },
  {
   "cell_type": "code",
   "execution_count": 50,
   "metadata": {
    "collapsed": false
   },
   "outputs": [],
   "source": [
    "# Vector of 'important' words\n",
    "vocabulary = []\n",
    "ham_col = pd.DataFrame(top_ham).reset_index()\n",
    "spam_col = pd.DataFrame(top_spam).reset_index()\n",
    "for index,row in ham_col.iterrows():\n",
    "    vocabulary.append(row['index'])\n",
    "for index, row in spam_col.iterrows():\n",
    "    vocabulary.append(row['index'])\n",
    "\n",
    "vocabulary = list(set(vocabulary))\n",
    "relevant_vec = CountVectorizer(decode_error = 'ignore', stop_words = 'english', vocabulary= vocabulary)\n"
   ]
  },
  {
   "cell_type": "code",
   "execution_count": 51,
   "metadata": {
    "collapsed": false
   },
   "outputs": [],
   "source": [
    "import sklearn.model_selection as ms\n",
    "from sklearn.feature_extraction.text import TfidfTransformer\n",
    "import numpy as np\n",
    "\n",
    "# X is the feature array, based off relevant words\n",
    "X = relevant_vec.fit_transform(sms_df['sms'].values).toarray()\n",
    "\n",
    "# Compute the length of each sms message, normalized\n",
    "# by max length\n",
    "Xlen = np.zeros((X.shape[0],1))\n",
    "inx = 0\n",
    "for v in sms_df['sms'].values:\n",
    "        Xlen[inx,0] = len(v)\n",
    "        inx += 1\n",
    "Xlen = Xlen / max(Xlen)\n",
    "# Add the length as another feature\n",
    "X = np.hstack((X, Xlen))\n",
    "\n",
    "y = sms_df['class'].values\n",
    "\n",
    "# Now we split...\n",
    "X_train, X_test, y_train, y_test = ms.train_test_split(X, y, test_size=0.2,random_state = 42)\n"
   ]
  },
  {
   "cell_type": "markdown",
   "metadata": {},
   "source": [
    "## Step 1.4 Classifier Evaluation"
   ]
  },
  {
   "cell_type": "code",
   "execution_count": 52,
   "metadata": {
    "collapsed": true
   },
   "outputs": [],
   "source": [
    "from sklearn.tree import DecisionTreeClassifier\n",
    "from sklearn.svm import SVC\n",
    "import sklearn.model_selection as ms\n",
    "from sklearn.linear_model import LogisticRegression\n",
    "import numpy as np\n",
    "\n",
    "# Results, as a list of dictionaries\n",
    "classifier_results = []"
   ]
  },
  {
   "cell_type": "code",
   "execution_count": 53,
   "metadata": {
    "collapsed": false
   },
   "outputs": [],
   "source": [
    "# Code for creating and testing classifiers\n",
    "tree_clf1 = DecisionTreeClassifier(max_depth = 1, random_state=42)\n",
    "tree_clf2 = DecisionTreeClassifier(max_depth = 2, random_state=42)\n",
    "tree_clf3 = DecisionTreeClassifier(max_depth = 3, random_state=42)\n",
    "tree_clf4 = DecisionTreeClassifier(max_depth = 4, random_state=42)\n",
    "tree_clf5 = DecisionTreeClassifier(max_depth = 5, random_state=42)\n",
    "logreg_clf1 = LogisticRegression(solver = 'liblinear', penalty = 'l1', random_state = 42)\n",
    "logreg_clf2 = LogisticRegression(solver = 'liblinear', penalty = 'l2', random_state = 42)\n",
    "svm_clf = SVC(random_state = 42)\n"
   ]
  },
  {
   "cell_type": "code",
   "execution_count": 54,
   "metadata": {
    "collapsed": false
   },
   "outputs": [],
   "source": [
    "#DecTree\n",
    "classifier1 = {}\n",
    "classifier2 = {}\n",
    "classifier3 = {}\n",
    "classifier4 = {}\n",
    "classifier5 = {}\n",
    "classifier1['Classifier'] = 'DecTree'\n",
    "classifier2['Classifier'] = 'DecTree'\n",
    "classifier3['Classifier'] = 'DecTree'\n",
    "classifier4['Classifier'] = 'DecTree'\n",
    "classifier5['Classifier'] = 'DecTree'\n",
    "tree_clf1 = tree_clf1.fit(X_train,y_train)\n",
    "y_pred_tree1 = tree_clf1.predict(X_test)\n",
    "score_tree1 = len(y_pred_tree1[y_pred_tree1 == y_test]) / len(y_pred_tree1)\n",
    "classifier1['Depth'] = 1\n",
    "classifier1['Score'] = score_tree1\n",
    "classifier_results.append(classifier1)\n",
    "\n",
    "tree_clf2 = tree_clf2.fit(X_train,y_train)\n",
    "y_pred_tree2 = tree_clf2.predict(X_test)\n",
    "score_tree2 = len(y_pred_tree2[y_pred_tree2 == y_test]) / len(y_pred_tree2)\n",
    "classifier2['Depth'] = 2\n",
    "classifier2['Score'] = score_tree2\n",
    "classifier_results.append(classifier2)\n",
    "\n",
    "tree_clf3 = tree_clf3.fit(X_train,y_train)\n",
    "y_pred_tree3 = tree_clf3.predict(X_test)\n",
    "score_tree3 = len(y_pred_tree3[y_pred_tree3 == y_test]) / len(y_pred_tree3)\n",
    "classifier3['Depth'] = 3\n",
    "classifier3['Score'] = score_tree3\n",
    "classifier_results.append(classifier3)\n",
    "\n",
    "tree_clf4 = tree_clf4.fit(X_train,y_train)\n",
    "y_pred_tree4 = tree_clf4.predict(X_test)\n",
    "score_tree4 = len(y_pred_tree4[y_pred_tree4 == y_test]) / len(y_pred_tree4)\n",
    "classifier4['Depth'] = 4\n",
    "classifier4['Score'] = score_tree4\n",
    "classifier_results.append(classifier4)\n",
    "\n",
    "tree_clf5 = tree_clf5.fit(X_train,y_train)\n",
    "y_pred_tree5 = tree_clf5.predict(X_test)\n",
    "score_tree5 = len(y_pred_tree5[y_pred_tree5 == y_test]) / len(y_pred_tree5)\n",
    "classifier5['Depth'] = 5\n",
    "classifier5['Score'] = score_tree5\n",
    "classifier_results.append(classifier5)\n"
   ]
  },
  {
   "cell_type": "code",
   "execution_count": 55,
   "metadata": {
    "collapsed": false
   },
   "outputs": [],
   "source": [
    "#LogReg\n",
    "classifier6 = {}\n",
    "classifier7 = {}\n",
    "logreg_clf1 = logreg_clf1.fit(X_train,y_train)\n",
    "y_pred_logreg1 = logreg_clf1.predict(X_test)\n",
    "score_logreg1 = len(y_pred_logreg1[y_pred_logreg1 == y_test]) / len(y_pred_logreg1)\n",
    "classifier6['Classifier'] = 'LogReg-L1'\n",
    "classifier6['Score'] = score_logreg1\n",
    "classifier_results.append(classifier6)\n",
    "\n",
    "logreg_clf2 = logreg_clf2.fit(X_train,y_train)\n",
    "y_pred_logreg2 = logreg_clf2.predict(X_test)\n",
    "score_logreg2 = len(y_pred_logreg2[y_pred_logreg2 == y_test]) / len(y_pred_logreg2)\n",
    "classifier7['Classifier'] = 'LogReg-L2'\n",
    "classifier7['Score'] = score_logreg2\n",
    "classifier_results.append(classifier7)"
   ]
  },
  {
   "cell_type": "code",
   "execution_count": 56,
   "metadata": {
    "collapsed": true
   },
   "outputs": [],
   "source": [
    "#SVM\n",
    "classifier8 = {}\n",
    "svm_clf = svm_clf.fit(X_train,y_train)\n",
    "y_pred_svm = svm_clf.predict(X_test)\n",
    "score_svm = len(y_pred_svm[y_pred_svm == y_test]) / len(y_pred_svm)\n",
    "classifier8['Classifier'] = 'SVM'\n",
    "classifier8['Score'] = score_svm\n",
    "classifier_results.append(classifier8)"
   ]
  },
  {
   "cell_type": "markdown",
   "metadata": {},
   "source": [
    "# Step 1.4 Results"
   ]
  },
  {
   "cell_type": "code",
   "execution_count": 57,
   "metadata": {
    "collapsed": false
   },
   "outputs": [
    {
     "data": {
      "text/html": [
       "<div>\n",
       "<table border=\"1\" class=\"dataframe\">\n",
       "  <thead>\n",
       "    <tr style=\"text-align: right;\">\n",
       "      <th></th>\n",
       "      <th>Classifier</th>\n",
       "      <th>Depth</th>\n",
       "      <th>Score</th>\n",
       "    </tr>\n",
       "  </thead>\n",
       "  <tbody>\n",
       "    <tr>\n",
       "      <th>0</th>\n",
       "      <td>DecTree</td>\n",
       "      <td>1.0</td>\n",
       "      <td>0.939910</td>\n",
       "    </tr>\n",
       "    <tr>\n",
       "      <th>1</th>\n",
       "      <td>DecTree</td>\n",
       "      <td>2.0</td>\n",
       "      <td>0.939910</td>\n",
       "    </tr>\n",
       "    <tr>\n",
       "      <th>2</th>\n",
       "      <td>DecTree</td>\n",
       "      <td>3.0</td>\n",
       "      <td>0.947085</td>\n",
       "    </tr>\n",
       "    <tr>\n",
       "      <th>3</th>\n",
       "      <td>DecTree</td>\n",
       "      <td>4.0</td>\n",
       "      <td>0.950673</td>\n",
       "    </tr>\n",
       "    <tr>\n",
       "      <th>4</th>\n",
       "      <td>DecTree</td>\n",
       "      <td>5.0</td>\n",
       "      <td>0.961435</td>\n",
       "    </tr>\n",
       "    <tr>\n",
       "      <th>5</th>\n",
       "      <td>LogReg-L1</td>\n",
       "      <td>NaN</td>\n",
       "      <td>0.971300</td>\n",
       "    </tr>\n",
       "    <tr>\n",
       "      <th>6</th>\n",
       "      <td>LogReg-L2</td>\n",
       "      <td>NaN</td>\n",
       "      <td>0.970404</td>\n",
       "    </tr>\n",
       "    <tr>\n",
       "      <th>7</th>\n",
       "      <td>SVM</td>\n",
       "      <td>NaN</td>\n",
       "      <td>0.971300</td>\n",
       "    </tr>\n",
       "  </tbody>\n",
       "</table>\n",
       "</div>"
      ],
      "text/plain": [
       "  Classifier  Depth     Score\n",
       "0    DecTree    1.0  0.939910\n",
       "1    DecTree    2.0  0.939910\n",
       "2    DecTree    3.0  0.947085\n",
       "3    DecTree    4.0  0.950673\n",
       "4    DecTree    5.0  0.961435\n",
       "5  LogReg-L1    NaN  0.971300\n",
       "6  LogReg-L2    NaN  0.970404\n",
       "7        SVM    NaN  0.971300"
      ]
     },
     "execution_count": 57,
     "metadata": {},
     "output_type": "execute_result"
    }
   ],
   "source": [
    "pd.DataFrame(classifier_results)"
   ]
  },
  {
   "cell_type": "markdown",
   "metadata": {
    "collapsed": true
   },
   "source": [
    "## Step 2.0 Ensembles"
   ]
  },
  {
   "cell_type": "code",
   "execution_count": 98,
   "metadata": {
    "collapsed": true
   },
   "outputs": [],
   "source": [
    "from sklearn.ensemble import RandomForestClassifier\n",
    "from sklearn.ensemble import AdaBoostClassifier\n",
    "from sklearn.ensemble import BaggingClassifier\n",
    "\n",
    "classifier_results = []"
   ]
  },
  {
   "cell_type": "markdown",
   "metadata": {},
   "source": [
    "## Compute ensemble classifier results here"
   ]
  },
  {
   "cell_type": "code",
   "execution_count": 99,
   "metadata": {
    "collapsed": false
   },
   "outputs": [],
   "source": [
    "# Code for classifier construction and testing\n",
    "# RandomForest\n",
    "classifier_RandomForest = {}\n",
    "RandomForest_clf = RandomForestClassifier(n_estimators = 31,random_state = 314)\n",
    "n_estimators = 31\n",
    "RandomForest_clf = RandomForest_clf.fit(X_train,y_train)\n",
    "y_pred_RandomForest = RandomForest_clf.predict(X_test)\n",
    "score_RandomForest = len(y_pred_RandomForest[y_pred_RandomForest == y_test]) / len(y_pred_RandomForest)\n",
    "classifier_RandomForest['Classifier'] = 'RandomForest'\n",
    "classifier_RandomForest['Score'] = score_RandomForest\n",
    "classifier_RandomForest['Count'] = n_estimators\n",
    "classifier_results.append(classifier_RandomForest)"
   ]
  },
  {
   "cell_type": "code",
   "execution_count": 100,
   "metadata": {
    "collapsed": false
   },
   "outputs": [],
   "source": [
    "# BaggingClassifier\n",
    "from sklearn.tree import DecisionTreeClassifier\n",
    "from sklearn.svm import SVC\n",
    "from sklearn.linear_model import LogisticRegression\n",
    "\n",
    "Bag_DecTree_classifier = {}\n",
    "Bag_DecTree = BaggingClassifier(DecisionTreeClassifier(random_state=42), n_estimators=31, random_state = 314)\n",
    "Bag_DecTree = Bag_DecTree.fit(X_train,y_train)\n",
    "y_pred_Bag_DecTree = Bag_DecTree.predict(X_test)\n",
    "score_Bag_DecTree = len(y_pred_Bag_DecTree[y_pred_Bag_DecTree == y_test]) / len(y_pred_Bag_DecTree)\n",
    "Bag_DecTree_classifier['Classifier'] = 'Bag-DecTree'\n",
    "Bag_DecTree_classifier['Score'] = score_Bag_DecTree\n",
    "Bag_DecTree_classifier['Count'] = 31\n",
    "classifier_results.append(Bag_DecTree_classifier)\n",
    "\n",
    "Bag_LogReg_L1_classifier = {}\n",
    "Bag_LogReg_L1 = BaggingClassifier(LogisticRegression(solver = 'liblinear', penalty = 'l1', random_state = 42), n_estimators=31, random_state = 314)\n",
    "Bag_LogReg_L1 = Bag_LogReg_L1.fit(X_train, y_train)\n",
    "y_pred_Bag_LogReg1 = Bag_LogReg_L1.predict(X_test)\n",
    "score_Bag_LogReg1 = len(y_pred_Bag_LogReg1[y_pred_Bag_LogReg1 == y_test]) / len(y_pred_Bag_LogReg1)\n",
    "Bag_LogReg_L1_classifier['Classifier'] = 'LogReg-L1'\n",
    "Bag_LogReg_L1_classifier['Score'] = score_Bag_LogReg1\n",
    "Bag_LogReg_L1_classifier['Count'] = 31\n",
    "classifier_results.append(Bag_LogReg_L1_classifier)\n",
    "\n",
    "Bag_LogReg_L2_classifier = {}\n",
    "Bag_LogReg_L2 = BaggingClassifier(LogisticRegression(solver = 'liblinear', penalty = 'l2', random_state = 42), n_estimators=31, random_state = 314)\n",
    "Bag_LogReg_L2 = Bag_LogReg_L2.fit(X_train, y_train)\n",
    "y_pred_Bag_LogReg2 = Bag_LogReg_L2.predict(X_test)\n",
    "score_Bag_LogReg2 = len(y_pred_Bag_LogReg2[y_pred_Bag_LogReg2 == y_test]) / len(y_pred_Bag_LogReg2)\n",
    "Bag_LogReg_L2_classifier['Classifier'] = 'LogReg-L2'\n",
    "Bag_LogReg_L2_classifier['Score'] = score_Bag_LogReg2\n",
    "Bag_LogReg_L2_classifier['Count'] = 31\n",
    "classifier_results.append(Bag_LogReg_L2_classifier)\n",
    "\n",
    "Bag_SVM_classifier = {}\n",
    "Bag_SVM = BaggingClassifier(SVC(random_state = 42), n_estimators=31, random_state = 314)\n",
    "Bag_SVM = Bag_SVM.fit(X_train, y_train)\n",
    "y_pred_Bag_SVM = Bag_SVM.predict(X_test)\n",
    "score_Bag_SVM = len(y_pred_Bag_SVM[y_pred_Bag_SVM == y_test]) / len(y_pred_Bag_SVM)\n",
    "Bag_SVM_classifier['Classifier'] = 'Bag-SVM'\n",
    "Bag_SVM_classifier['Score'] = score_Bag_SVM\n",
    "Bag_SVM_classifier['Count'] = 31\n",
    "classifier_results.append(Bag_SVM_classifier)"
   ]
  },
  {
   "cell_type": "code",
   "execution_count": 101,
   "metadata": {
    "collapsed": false
   },
   "outputs": [],
   "source": [
    "#AdaBoostClassifier\n",
    "Boost_DecTree_clf = {}\n",
    "Boost_DecTree = AdaBoostClassifier(DecisionTreeClassifier(random_state=42), n_estimators=31, random_state = 314)\n",
    "Boost_DecTree.fit(X_train, y_train)\n",
    "y_pred_Boost_DecTree = Boost_DecTree.predict(X_test)\n",
    "score_Boost_DecTree = len(y_pred_Boost_DecTree[y_pred_Boost_DecTree == y_test]) / len(y_pred_Boost_DecTree)\n",
    "Boost_DecTree_clf['Classifier'] = 'Boost-DecTree'\n",
    "Boost_DecTree_clf['Score'] = score_Boost_DecTree\n",
    "Boost_DecTree_clf['Count'] = 31\n",
    "classifier_results.append(Boost_DecTree_clf)\n",
    "\n",
    "Boost_LogReg_L1_clf = {}\n",
    "Boost_LogReg_L1 = AdaBoostClassifier(LogisticRegression(solver = 'liblinear', penalty = 'l1', random_state = 42), n_estimators=31, random_state = 314)\n",
    "Boost_LogReg_L1.fit(X_train, y_train)\n",
    "y_pred_Boost_LogReg_L1 = Boost_LogReg_L1.predict(X_test)\n",
    "score_Boost_LogReg_L1 = len(y_pred_Boost_LogReg_L1[y_pred_Boost_LogReg_L1 == y_test]) / len(y_pred_Boost_LogReg_L1)\n",
    "Boost_LogReg_L1_clf['Classifier'] = 'Boost-LogReg-L1'\n",
    "Boost_LogReg_L1_clf['Score'] = score_Boost_LogReg_L1\n",
    "Boost_LogReg_L1_clf['Count'] = 31\n",
    "classifier_results.append(Boost_LogReg_L1_clf)\n",
    "\n",
    "Boost_LogReg_L2_clf = {}\n",
    "Boost_LogReg_L2 = AdaBoostClassifier(LogisticRegression(solver = 'liblinear', penalty = 'l2', random_state = 42), n_estimators=31, random_state = 314)\n",
    "Boost_LogReg_L2.fit(X_train, y_train)\n",
    "y_pred_Boost_LogReg_L2 = Boost_LogReg_L2.predict(X_test)\n",
    "score_Boost_LogReg_L2 = len(y_pred_Boost_LogReg_L2[y_pred_Boost_LogReg_L2 == y_test]) / len(y_pred_Boost_LogReg_L2)\n",
    "Boost_LogReg_L2_clf['Classifier'] = 'Boost-LogReg-L2'\n",
    "Boost_LogReg_L2_clf['Score'] = score_Boost_LogReg_L2\n",
    "Boost_LogReg_L2_clf['Count'] = 31\n",
    "classifier_results.append(Boost_LogReg_L2_clf)\n",
    "\n",
    "Boost_SVM_clf = {}\n",
    "Boost_SVM = AdaBoostClassifier(SVC(random_state = 42), n_estimators=31, random_state = 314, algorithm='SAMME')\n",
    "Boost_SVM.fit(X_train, y_train)\n",
    "y_pred_Boost_SVM = Boost_SVM.predict(X_test)\n",
    "score_Boost_SVM = len(y_pred_Boost_SVM[y_pred_Boost_SVM == y_test]) / len(y_pred_Boost_SVM)\n",
    "Boost_SVM_clf['Classifier'] = 'Boost-SVM'\n",
    "Boost_SVM_clf['Score'] = score_Boost_SVM\n",
    "Boost_SVM_clf['Count'] = 31\n",
    "classifier_results.append(Boost_SVM_clf)"
   ]
  },
  {
   "cell_type": "markdown",
   "metadata": {},
   "source": [
    "## Step 2.0 Results"
   ]
  },
  {
   "cell_type": "code",
   "execution_count": 102,
   "metadata": {
    "collapsed": false
   },
   "outputs": [
    {
     "data": {
      "text/html": [
       "<div>\n",
       "<table border=\"1\" class=\"dataframe\">\n",
       "  <thead>\n",
       "    <tr style=\"text-align: right;\">\n",
       "      <th></th>\n",
       "      <th>Classifier</th>\n",
       "      <th>Count</th>\n",
       "      <th>Score</th>\n",
       "    </tr>\n",
       "  </thead>\n",
       "  <tbody>\n",
       "    <tr>\n",
       "      <th>0</th>\n",
       "      <td>RandomForest</td>\n",
       "      <td>31</td>\n",
       "      <td>0.981166</td>\n",
       "    </tr>\n",
       "    <tr>\n",
       "      <th>1</th>\n",
       "      <td>Bag-DecTree</td>\n",
       "      <td>31</td>\n",
       "      <td>0.979372</td>\n",
       "    </tr>\n",
       "    <tr>\n",
       "      <th>2</th>\n",
       "      <td>LogReg-L1</td>\n",
       "      <td>31</td>\n",
       "      <td>0.973991</td>\n",
       "    </tr>\n",
       "    <tr>\n",
       "      <th>3</th>\n",
       "      <td>LogReg-L2</td>\n",
       "      <td>31</td>\n",
       "      <td>0.971300</td>\n",
       "    </tr>\n",
       "    <tr>\n",
       "      <th>4</th>\n",
       "      <td>Bag-SVM</td>\n",
       "      <td>31</td>\n",
       "      <td>0.972197</td>\n",
       "    </tr>\n",
       "    <tr>\n",
       "      <th>5</th>\n",
       "      <td>Boost-DecTree</td>\n",
       "      <td>31</td>\n",
       "      <td>0.964126</td>\n",
       "    </tr>\n",
       "    <tr>\n",
       "      <th>6</th>\n",
       "      <td>Boost-LogReg-L1</td>\n",
       "      <td>31</td>\n",
       "      <td>0.865471</td>\n",
       "    </tr>\n",
       "    <tr>\n",
       "      <th>7</th>\n",
       "      <td>Boost-LogReg-L2</td>\n",
       "      <td>31</td>\n",
       "      <td>0.950673</td>\n",
       "    </tr>\n",
       "    <tr>\n",
       "      <th>8</th>\n",
       "      <td>Boost-SVM</td>\n",
       "      <td>31</td>\n",
       "      <td>0.865471</td>\n",
       "    </tr>\n",
       "  </tbody>\n",
       "</table>\n",
       "</div>"
      ],
      "text/plain": [
       "        Classifier  Count     Score\n",
       "0     RandomForest     31  0.981166\n",
       "1      Bag-DecTree     31  0.979372\n",
       "2        LogReg-L1     31  0.973991\n",
       "3        LogReg-L2     31  0.971300\n",
       "4          Bag-SVM     31  0.972197\n",
       "5    Boost-DecTree     31  0.964126\n",
       "6  Boost-LogReg-L1     31  0.865471\n",
       "7  Boost-LogReg-L2     31  0.950673\n",
       "8        Boost-SVM     31  0.865471"
      ]
     },
     "execution_count": 102,
     "metadata": {},
     "output_type": "execute_result"
    }
   ],
   "source": [
    "pd.DataFrame(classifier_results)"
   ]
  },
  {
   "cell_type": "markdown",
   "metadata": {
    "collapsed": true
   },
   "source": [
    "## Step 3.0 Neural Networks"
   ]
  },
  {
   "cell_type": "code",
   "execution_count": 84,
   "metadata": {
    "collapsed": true
   },
   "outputs": [],
   "source": [
    "from sklearn.linear_model import Perceptron\n",
    "from sklearn.neural_network import MLPClassifier\n",
    "\n",
    "classifier_results = []"
   ]
  },
  {
   "cell_type": "code",
   "execution_count": 85,
   "metadata": {
    "collapsed": false
   },
   "outputs": [],
   "source": [
    "# Code for classifier construction and testing\n",
    "#Perceptron\n",
    "Perceptron_clf = {}\n",
    "Perceptron = Perceptron(random_state=42)\n",
    "Perceptron.fit(X_train, y_train)\n",
    "y_pred_Perceptron = Perceptron.predict(X_test)\n",
    "score_Perceptron = len(y_pred_Perceptron[y_pred_Perceptron == y_test]) / len(y_pred_Perceptron)\n",
    "Perceptron_clf['Classifier'] = 'Perceptron'\n",
    "Perceptron_clf['Score'] = score_Perceptron\n",
    "classifier_results.append(Perceptron_clf)"
   ]
  },
  {
   "cell_type": "code",
   "execution_count": 86,
   "metadata": {
    "collapsed": false
   },
   "outputs": [],
   "source": [
    "#MLP 3 hidden\n",
    "MLPClassifier1_clf = {}\n",
    "MLPClassifier1 = MLPClassifier(hidden_layer_sizes=(3,), random_state = 42)\n",
    "MLPClassifier1.fit(X_train, y_train)\n",
    "y_pred_MLP1 = MLPClassifier1.predict(X_test)\n",
    "score_MLP1 = len(y_pred_MLP1[y_pred_MLP1 == y_test]) / len(y_pred_MLP1)\n",
    "MLPClassifier1_clf['Classifier'] = 'MLPCLassifier'\n",
    "MLPClassifier1_clf['Hidden'] = (3,1)\n",
    "MLPClassifier1_clf['Score'] = score_MLP1\n",
    "classifier_results.append(MLPClassifier1_clf)"
   ]
  },
  {
   "cell_type": "code",
   "execution_count": 87,
   "metadata": {
    "collapsed": false
   },
   "outputs": [],
   "source": [
    "#MLP 10 hidden\n",
    "MLPClassifier2_clf = {}\n",
    "MLPClassifier2 = MLPClassifier(hidden_layer_sizes=(10,), random_state = 42)\n",
    "MLPClassifier2.fit(X_train, y_train)\n",
    "y_pred_MLP2 = MLPClassifier2.predict(X_test)\n",
    "score_MLP2 = len(y_pred_MLP2[y_pred_MLP2 == y_test]) / len(y_pred_MLP2)\n",
    "MLPClassifier2_clf['Classifier'] = 'MLPCLassifier'\n",
    "MLPClassifier2_clf['Hidden'] = (10,1)\n",
    "MLPClassifier2_clf['Score'] = score_MLP2\n",
    "classifier_results.append(MLPClassifier2_clf)"
   ]
  },
  {
   "cell_type": "code",
   "execution_count": 88,
   "metadata": {
    "collapsed": false
   },
   "outputs": [],
   "source": [
    "#MLP (10,3) hidden\n",
    "MLPClassifier3_clf = {}\n",
    "MLPClassifier3 = MLPClassifier(hidden_layer_sizes=(10,10,10), random_state = 42)\n",
    "MLPClassifier3.fit(X_train, y_train)\n",
    "y_pred_MLP3 = MLPClassifier3.predict(X_test)\n",
    "score_MLP3 = len(y_pred_MLP3[y_pred_MLP3 == y_test]) / len(y_pred_MLP3)\n",
    "MLPClassifier3_clf['Classifier'] = 'MLPCLassifier'\n",
    "MLPClassifier3_clf['Hidden'] = (10,10,10)\n",
    "MLPClassifier3_clf['Score'] = score_MLP3\n",
    "classifier_results.append(MLPClassifier3_clf)"
   ]
  },
  {
   "cell_type": "code",
   "execution_count": 90,
   "metadata": {
    "collapsed": false
   },
   "outputs": [
    {
     "data": {
      "text/html": [
       "<div>\n",
       "<table border=\"1\" class=\"dataframe\">\n",
       "  <thead>\n",
       "    <tr style=\"text-align: right;\">\n",
       "      <th></th>\n",
       "      <th>Classifier</th>\n",
       "      <th>Hidden</th>\n",
       "      <th>Score</th>\n",
       "    </tr>\n",
       "  </thead>\n",
       "  <tbody>\n",
       "    <tr>\n",
       "      <th>0</th>\n",
       "      <td>Perceptron</td>\n",
       "      <td>NaN</td>\n",
       "      <td>0.956054</td>\n",
       "    </tr>\n",
       "    <tr>\n",
       "      <th>1</th>\n",
       "      <td>MLPCLassifier</td>\n",
       "      <td>(3, 1)</td>\n",
       "      <td>0.975785</td>\n",
       "    </tr>\n",
       "    <tr>\n",
       "      <th>2</th>\n",
       "      <td>MLPCLassifier</td>\n",
       "      <td>(10, 1)</td>\n",
       "      <td>0.974888</td>\n",
       "    </tr>\n",
       "    <tr>\n",
       "      <th>3</th>\n",
       "      <td>MLPCLassifier</td>\n",
       "      <td>(10, 10, 10)</td>\n",
       "      <td>0.977578</td>\n",
       "    </tr>\n",
       "  </tbody>\n",
       "</table>\n",
       "</div>"
      ],
      "text/plain": [
       "      Classifier        Hidden     Score\n",
       "0     Perceptron           NaN  0.956054\n",
       "1  MLPCLassifier        (3, 1)  0.975785\n",
       "2  MLPCLassifier       (10, 1)  0.974888\n",
       "3  MLPCLassifier  (10, 10, 10)  0.977578"
      ]
     },
     "execution_count": 90,
     "metadata": {},
     "output_type": "execute_result"
    }
   ],
   "source": [
    "pd.DataFrame(classifier_results)"
   ]
  },
  {
   "cell_type": "code",
   "execution_count": null,
   "metadata": {
    "collapsed": true
   },
   "outputs": [],
   "source": []
  }
 ],
 "metadata": {
  "kernelspec": {
   "display_name": "Python 3",
   "language": "python",
   "name": "python3"
  },
  "language_info": {
   "codemirror_mode": {
    "name": "ipython",
    "version": 3
   },
   "file_extension": ".py",
   "mimetype": "text/x-python",
   "name": "python",
   "nbconvert_exporter": "python",
   "pygments_lexer": "ipython3",
   "version": "3.5.2"
  }
 },
 "nbformat": 4,
 "nbformat_minor": 1
}
